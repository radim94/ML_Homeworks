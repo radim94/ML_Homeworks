{
 "cells": [
  {
   "cell_type": "code",
   "execution_count": 2,
   "metadata": {
    "collapsed": true
   },
   "outputs": [],
   "source": [
    "\n",
    "import numpy as np\n",
    "import pandas as pd\n",
    "\n",
    "\n"
   ]
  },
  {
   "cell_type": "code",
   "execution_count": 32,
   "metadata": {
    "collapsed": true
   },
   "outputs": [],
   "source": [
    "from matplotlib import pyplot as plt\n",
    "%matplotlib inline\n"
   ]
  },
  {
   "cell_type": "code",
   "execution_count": 24,
   "metadata": {
    "collapsed": true
   },
   "outputs": [],
   "source": [
    "from sklearn.model_selection import train_test_split, GridSearchCV\n",
    "from sklearn.metrics import accuracy_score\n"
   ]
  },
  {
   "cell_type": "code",
   "execution_count": 25,
   "metadata": {
    "collapsed": true
   },
   "outputs": [],
   "source": [
    "from sklearn.tree import DecisionTreeClassifier, export_graphviz"
   ]
  },
  {
   "cell_type": "code",
   "execution_count": 5,
   "metadata": {},
   "outputs": [
    {
     "data": {
      "image/png": "[encoded data removed]",
      "text/plain": [
       "<matplotlib.figure.Figure at 0xbad6c88>"
      ]
     },
     "metadata": {},
     "output_type": "display_data"
    }
   ],
   "source": [
    "\n",
    "\n",
    "X = np.linspace(-2, 2, 7)\n",
    "y = X ** 3\n",
    "\n",
    "plt.scatter(X, y)\n",
    "plt.xlabel(r'$x$')\n",
    "plt.ylabel(r'$y$');\n",
    "\n"
   ]
  },
  {
   "cell_type": "code",
   "execution_count": 8,
   "metadata": {},
   "outputs": [
    {
     "ename": "SyntaxError",
     "evalue": "can't assign to function call (<ipython-input-8-247d9a92427e>, line 5)",
     "output_type": "error",
     "traceback": [
      "\u001b[1;36m  File \u001b[1;32m\"<ipython-input-8-247d9a92427e>\"\u001b[1;36m, line \u001b[1;32m5\u001b[0m\n\u001b[1;33m    Q(X,j,t)=D(X)-(abs(Xl)/abs(X))*D(Xl)-(abs(Xr)/abs(X))*D(Xr)\u001b[0m\n\u001b[1;31mSyntaxError\u001b[0m\u001b[1;31m:\u001b[0m can't assign to function call\n"
     ]
    }
   ],
   "source": [
    "\n",
    "\n",
    "def regression_var_criterion(X, y, t):\n",
    "    pass\n",
    "Q(X,j,t)=D(X)-(abs(Xl)/abs(X))*D(Xl)-(abs(Xr)/abs(X))*D(Xr)"
   ]
  },
  {
   "cell_type": "code",
   "execution_count": 7,
   "metadata": {
    "collapsed": true
   },
   "outputs": [],
   "source": [
    "X1=X;\n",
    "y1=[(y[1]+y[0])/2,(y[1]+y[0])/2]"
   ]
  },
  {
   "cell_type": "code",
   "execution_count": 8,
   "metadata": {},
   "outputs": [
    {
     "data": {
      "text/plain": [
       "-2.3703703703703711"
      ]
     },
     "execution_count": 8,
     "metadata": {},
     "output_type": "execute_result"
    }
   ],
   "source": [
    "y[1]"
   ]
  },
  {
   "cell_type": "code",
   "execution_count": 9,
   "metadata": {
    "collapsed": true
   },
   "outputs": [],
   "source": [
    "z=(y[1]+y[2]+y[3]+y[4]+y[5])/5\n",
    "y1=[y[0],z,z,z,z,z,y[6]]"
   ]
  },
  {
   "cell_type": "code",
   "execution_count": 10,
   "metadata": {},
   "outputs": [
    {
     "data": {
      "text/plain": [
       "[-8.0,\n",
       " -4.4408920985006262e-16,\n",
       " -4.4408920985006262e-16,\n",
       " -4.4408920985006262e-16,\n",
       " -4.4408920985006262e-16,\n",
       " -4.4408920985006262e-16,\n",
       " 8.0]"
      ]
     },
     "execution_count": 10,
     "metadata": {},
     "output_type": "execute_result"
    }
   ],
   "source": [
    "y1"
   ]
  },
  {
   "cell_type": "code",
   "execution_count": 11,
   "metadata": {},
   "outputs": [
    {
     "data": {
      "text/plain": [
       "array([-2.        , -1.33333333, -0.66666667,  0.        ,  0.66666667,\n",
       "        1.33333333,  2.        ])"
      ]
     },
     "execution_count": 11,
     "metadata": {},
     "output_type": "execute_result"
    }
   ],
   "source": [
    "X"
   ]
  },
  {
   "cell_type": "code",
   "execution_count": 12,
   "metadata": {},
   "outputs": [
    {
     "data": {
      "image/png": "[encoded data removed]",
      "text/plain": [
       "<matplotlib.figure.Figure at 0xc2fda90>"
      ]
     },
     "metadata": {},
     "output_type": "display_data"
    }
   ],
   "source": [
    "plt.scatter(X, y1)\n",
    "plt.xlabel(r'$x$')\n",
    "plt.ylabel(r'$y$');\n"
   ]
  },
  {
   "cell_type": "code",
   "execution_count": 19,
   "metadata": {
    "collapsed": true
   },
   "outputs": [],
   "source": [
    "x=X"
   ]
  },
  {
   "cell_type": "code",
   "execution_count": 27,
   "metadata": {},
   "outputs": [
    {
     "data": {
      "text/plain": [
       "-2.3703703703703711"
      ]
     },
     "execution_count": 27,
     "metadata": {},
     "output_type": "execute_result"
    }
   ],
   "source": [
    "y[1]"
   ]
  },
  {
   "cell_type": "code",
   "execution_count": 30,
   "metadata": {},
   "outputs": [
    {
     "name": "stdout",
     "output_type": "stream",
     "text": [
      "1 x[i]= -2.0\n",
      "sum0= -8.0\n",
      "k= 1\n",
      "1 x[i]= -1.33333333333\n",
      "sum0= -10.3703703704\n",
      "k= 2\n",
      "1 x[i]= -0.666666666667\n",
      "sum0= -10.6666666667\n",
      "k= 3\n",
      "2x[i]= 0.0\n",
      "sum1= 0.0\n",
      "k1= 1\n",
      "2x[i]= 0.666666666667\n",
      "sum1= 0.296296296296\n",
      "k1= 2\n",
      "2x[i]= 1.33333333333\n",
      "sum1= 2.66666666667\n",
      "k1= 3\n",
      "2x[i]= 2.0\n",
      "sum1= 10.6666666667\n",
      "k1= 4\n"
     ]
    }
   ],
   "source": [
    "sum0=0\n",
    "k=0\n",
    "sum1=0\n",
    "k1=0\n",
    "for i in range(0,7):\n",
    "    if(x[i]<0):\n",
    "        print('1 x[i]= '+str(x[i]))\n",
    "        sum0+= y[i]\n",
    "        print('sum0= '+str(sum0))\n",
    "        k+=1 \n",
    "        print('k= '+str(k))\n",
    "    else:\n",
    "        print('2'+'x[i]= '+str(x[i]))\n",
    "        sum1+=y[i]\n",
    "        print('sum1= '+str(sum1))\n",
    "        k1+=1\n",
    "        print('k1= '+str(k1))\n",
    "sum0/=k\n",
    "sum1/=k1\n",
    "    \n",
    "        "
   ]
  },
  {
   "cell_type": "code",
   "execution_count": 31,
   "metadata": {},
   "outputs": [
    {
     "data": {
      "text/plain": [
       "-3.5555555555555554"
      ]
     },
     "execution_count": 31,
     "metadata": {},
     "output_type": "execute_result"
    }
   ],
   "source": [
    "sum0"
   ]
  },
  {
   "cell_type": "code",
   "execution_count": 32,
   "metadata": {},
   "outputs": [
    {
     "data": {
      "text/plain": [
       "2.6666666666666661"
      ]
     },
     "execution_count": 32,
     "metadata": {},
     "output_type": "execute_result"
    }
   ],
   "source": [
    "sum1"
   ]
  },
  {
   "cell_type": "code",
   "execution_count": 33,
   "metadata": {
    "collapsed": true
   },
   "outputs": [],
   "source": [
    "y2=[sum0, sum0, sum0, sum1, sum1, sum1, sum1]"
   ]
  },
  {
   "cell_type": "code",
   "execution_count": 35,
   "metadata": {},
   "outputs": [
    {
     "data": {
      "image/png": "[encoded data removed]",
      "text/plain": [
       "<matplotlib.figure.Figure at 0xcdedcc0>"
      ]
     },
     "metadata": {},
     "output_type": "display_data"
    }
   ],
   "source": [
    "plt.scatter(x, y2)\n",
    "plt.xlabel(r'$x$')\n",
    "plt.ylabel(r'$y$');"
   ]
  },
  {
   "cell_type": "code",
   "execution_count": 77,
   "metadata": {
    "collapsed": true
   },
   "outputs": [],
   "source": [
    "def regression_var_criterion(X, y, t):\n",
    "    [Xl, Xr, yl, yr]=divideT(X, y, t)\n",
    "    print('Xl='+str(Xl))\n",
    "    print('Xr='+str(Xr))\n",
    "    print('yl='+str(yl))\n",
    "    print('yr='+str(yr))\n",
    "    print('regression')\n",
    "    Q=disp(X,y)-(1.0*len(Xl)/len(X))*disp(Xl,yl)-(len(Xr)/len(X))*disp(Xr,yr)\n",
    "    print('end_regression')\n",
    "    return Q\n",
    "\n"
   ]
  },
  {
   "cell_type": "code",
   "execution_count": 76,
   "metadata": {
    "collapsed": true
   },
   "outputs": [],
   "source": [
    "\n",
    "def divideT(X, y, t):\n",
    "    print('divide')\n",
    "    Xl=[]\n",
    "    yl=[]\n",
    "    Xr=[]\n",
    "    yr=[]\n",
    "    sum0=0\n",
    "    k=0\n",
    "    sum1=0\n",
    "    k1=0\n",
    "    for i in range(0,len(X)):\n",
    "        if(x[i]<t):\n",
    "            print('1 x[i]= '+str(x[i]))\n",
    "            sum0+= y[i]\n",
    "            print('sum0= '+str(sum0))\n",
    "            k+=1 \n",
    "            print('k= '+str(k))\n",
    "            Xl.append(x[i])\n",
    "            yl.append(y[i])\n",
    "        else:\n",
    "            print('2'+'x[i]= '+str(x[i]))\n",
    "            sum1+=y[i]\n",
    "            print('sum1= '+str(sum1))\n",
    "            k1+=1\n",
    "            print('k1= '+str(k1))\n",
    "            Xr.append(x[i])\n",
    "            yr.append(y[i])\n",
    "    sum0/=k\n",
    "    sum1/=k1\n",
    "    Xl=np.array(Xl)\n",
    "    Xr=np.array(Xr)\n",
    "    yl=np.array(yl)\n",
    "    yr=np.array(yr)\n",
    "    print('end_divide')\n",
    "    return Xl, Xr, yl, yr\n",
    "    "
   ]
  },
  {
   "cell_type": "code",
   "execution_count": 75,
   "metadata": {
    "collapsed": true
   },
   "outputs": [],
   "source": [
    "def disp(X,y):\n",
    "    print('disp')\n",
    "    sum0=0;\n",
    "    print('mean(y)' +str(np.mean(y)))\n",
    "    for i in range(0, len(X)):\n",
    "        sum0=sum0+1.0/len(X)*(y[i]-np.mean(y))**2\n",
    "        print('y['+str(i)+']= '+str(y[i]))\n",
    "        print('sum0= '+str(sum0))\n",
    "        print('end_disp')\n",
    "    return sum0"
   ]
  },
  {
   "cell_type": "code",
   "execution_count": 50,
   "metadata": {},
   "outputs": [
    {
     "data": {
      "text/plain": [
       "array([-8.        , -2.37037037, -0.2962963 ,  0.        ,  0.2962963 ,\n",
       "        2.37037037,  8.        ])"
      ]
     },
     "execution_count": 50,
     "metadata": {},
     "output_type": "execute_result"
    }
   ],
   "source": [
    "y"
   ]
  },
  {
   "cell_type": "code",
   "execution_count": 36,
   "metadata": {},
   "outputs": [
    {
     "data": {
      "text/plain": [
       "7"
      ]
     },
     "execution_count": 36,
     "metadata": {},
     "output_type": "execute_result"
    }
   ],
   "source": [
    "len(X)"
   ]
  },
  {
   "cell_type": "code",
   "execution_count": 55,
   "metadata": {},
   "outputs": [
    {
     "name": "stdout",
     "output_type": "stream",
     "text": [
      "mean(y)-2.53765262771e-16\n",
      "y[0]= -8.0\n",
      "sum0= 9.14285714286\n",
      "y[1]= -2.37037037037\n",
      "sum0= 9.94552224182\n",
      "y[2]= -0.296296296296\n",
      "sum0= 9.95806388399\n",
      "y[3]= 0.0\n",
      "sum0= 9.95806388399\n",
      "y[4]= 0.296296296296\n",
      "sum0= 9.97060552616\n",
      "y[5]= 2.37037037037\n",
      "sum0= 10.7732706251\n",
      "y[6]= 8.0\n",
      "sum0= 19.916127768\n"
     ]
    },
    {
     "data": {
      "text/plain": [
       "19.916127767979617"
      ]
     },
     "execution_count": 55,
     "metadata": {},
     "output_type": "execute_result"
    }
   ],
   "source": [
    "disp(X,y)"
   ]
  },
  {
   "cell_type": "code",
   "execution_count": 37,
   "metadata": {},
   "outputs": [
    {
     "data": {
      "text/plain": [
       "-6.3441315692866085e-17"
      ]
     },
     "execution_count": 37,
     "metadata": {},
     "output_type": "execute_result"
    }
   ],
   "source": [
    "np.mean(X)"
   ]
  },
  {
   "cell_type": "code",
   "execution_count": 58,
   "metadata": {
    "collapsed": true
   },
   "outputs": [],
   "source": [
    "Xl=[]"
   ]
  },
  {
   "cell_type": "code",
   "execution_count": 59,
   "metadata": {
    "collapsed": true
   },
   "outputs": [],
   "source": [
    "Xl.append(5)"
   ]
  },
  {
   "cell_type": "code",
   "execution_count": 60,
   "metadata": {},
   "outputs": [
    {
     "data": {
      "text/plain": [
       "[5]"
      ]
     },
     "execution_count": 60,
     "metadata": {},
     "output_type": "execute_result"
    }
   ],
   "source": [
    "Xl"
   ]
  },
  {
   "cell_type": "code",
   "execution_count": 64,
   "metadata": {
    "collapsed": true
   },
   "outputs": [],
   "source": [
    "a=np.array(Xl)"
   ]
  },
  {
   "cell_type": "code",
   "execution_count": 65,
   "metadata": {},
   "outputs": [
    {
     "data": {
      "text/plain": [
       "array([5])"
      ]
     },
     "execution_count": 65,
     "metadata": {},
     "output_type": "execute_result"
    }
   ],
   "source": [
    "a"
   ]
  },
  {
   "cell_type": "code",
   "execution_count": 78,
   "metadata": {},
   "outputs": [
    {
     "name": "stdout",
     "output_type": "stream",
     "text": [
      "divide\n",
      "1 x[i]= -2.0\n",
      "sum0= -8.0\n",
      "k= 1\n",
      "1 x[i]= -1.33333333333\n",
      "sum0= -10.3703703704\n",
      "k= 2\n",
      "1 x[i]= -0.666666666667\n",
      "sum0= -10.6666666667\n",
      "k= 3\n",
      "2x[i]= 0.0\n",
      "sum1= 0.0\n",
      "k1= 1\n",
      "2x[i]= 0.666666666667\n",
      "sum1= 0.296296296296\n",
      "k1= 2\n",
      "2x[i]= 1.33333333333\n",
      "sum1= 2.66666666667\n",
      "k1= 3\n",
      "2x[i]= 2.0\n",
      "sum1= 10.6666666667\n",
      "k1= 4\n",
      "end_divide\n",
      "Xl=[-2.         -1.33333333 -0.66666667]\n",
      "Xr=[ 0.          0.66666667  1.33333333  2.        ]\n",
      "yl=[-8.         -2.37037037 -0.2962963 ]\n",
      "yr=[ 0.          0.2962963   2.37037037  8.        ]\n",
      "regression\n",
      "disp\n",
      "mean(y)-2.53765262771e-16\n",
      "y[0]= -8.0\n",
      "sum0= 9.14285714286\n",
      "end_disp\n",
      "y[1]= -2.37037037037\n",
      "sum0= 9.94552224182\n",
      "end_disp\n",
      "y[2]= -0.296296296296\n",
      "sum0= 9.95806388399\n",
      "end_disp\n",
      "y[3]= 0.0\n",
      "sum0= 9.95806388399\n",
      "end_disp\n",
      "y[4]= 0.296296296296\n",
      "sum0= 9.97060552616\n",
      "end_disp\n",
      "y[5]= 2.37037037037\n",
      "sum0= 10.7732706251\n",
      "end_disp\n",
      "y[6]= 8.0\n",
      "sum0= 19.916127768\n",
      "end_disp\n",
      "disp\n",
      "mean(y)-3.55555555556\n",
      "y[0]= -8.0\n",
      "sum0= 6.58436213992\n",
      "end_disp\n",
      "y[1]= -2.37037037037\n",
      "sum0= 7.05258344765\n",
      "end_disp\n",
      "y[2]= -0.296296296296\n",
      "sum0= 10.5935070873\n",
      "end_disp\n",
      "disp\n",
      "mean(y)2.66666666667\n",
      "y[0]= 0.0\n",
      "sum0= 1.77777777778\n",
      "end_disp\n",
      "y[1]= 0.296296296296\n",
      "sum0= 3.18244170096\n",
      "end_disp\n",
      "y[2]= 2.37037037037\n",
      "sum0= 3.20438957476\n",
      "end_disp\n",
      "y[3]= 8.0\n",
      "sum0= 10.3155006859\n",
      "end_disp\n",
      "end_regression\n"
     ]
    },
    {
     "data": {
      "text/plain": [
       "15.376053301979226"
      ]
     },
     "execution_count": 78,
     "metadata": {},
     "output_type": "execute_result"
    }
   ],
   "source": [
    "regression_var_criterion(X, y,0)"
   ]
  },
  {
   "cell_type": "code",
   "execution_count": 80,
   "metadata": {},
   "outputs": [
    {
     "name": "stdout",
     "output_type": "stream",
     "text": [
      "divide\n",
      "1 x[i]= -2.0\n",
      "sum0= -8.0\n",
      "k= 1\n",
      "2x[i]= -1.33333333333\n",
      "sum1= -2.37037037037\n",
      "k1= 1\n",
      "2x[i]= -0.666666666667\n",
      "sum1= -2.66666666667\n",
      "k1= 2\n",
      "2x[i]= 0.0\n",
      "sum1= -2.66666666667\n",
      "k1= 3\n",
      "2x[i]= 0.666666666667\n",
      "sum1= -2.37037037037\n",
      "k1= 4\n",
      "2x[i]= 1.33333333333\n",
      "sum1= -2.22044604925e-15\n",
      "k1= 5\n",
      "2x[i]= 2.0\n",
      "sum1= 8.0\n",
      "k1= 6\n",
      "end_divide\n",
      "Xl=[-2.]\n",
      "Xr=[-1.33333333 -0.66666667  0.          0.66666667  1.33333333  2.        ]\n",
      "yl=[-8.]\n",
      "yr=[-2.37037037 -0.2962963   0.          0.2962963   2.37037037  8.        ]\n",
      "regression\n",
      "disp\n",
      "mean(y)-2.53765262771e-16\n",
      "y[0]= -8.0\n",
      "sum0= 9.14285714286\n",
      "end_disp\n",
      "y[1]= -2.37037037037\n",
      "sum0= 9.94552224182\n",
      "end_disp\n",
      "y[2]= -0.296296296296\n",
      "sum0= 9.95806388399\n",
      "end_disp\n",
      "y[3]= 0.0\n",
      "sum0= 9.95806388399\n",
      "end_disp\n",
      "y[4]= 0.296296296296\n",
      "sum0= 9.97060552616\n",
      "end_disp\n",
      "y[5]= 2.37037037037\n",
      "sum0= 10.7732706251\n",
      "end_disp\n",
      "y[6]= 8.0\n",
      "sum0= 19.916127768\n",
      "end_disp\n",
      "disp\n",
      "mean(y)-8.0\n",
      "y[0]= -8.0\n",
      "sum0= 0.0\n",
      "end_disp\n",
      "disp\n",
      "mean(y)1.33333333333\n",
      "y[0]= -2.37037037037\n",
      "sum0= 2.28623685414\n",
      "end_disp\n",
      "y[1]= -0.296296296296\n",
      "sum0= 2.7288523091\n",
      "end_disp\n",
      "y[2]= 0.0\n",
      "sum0= 3.0251486054\n",
      "end_disp\n",
      "y[3]= 0.296296296296\n",
      "sum0= 3.20438957476\n",
      "end_disp\n",
      "y[4]= 2.37037037037\n",
      "sum0= 3.38363054412\n",
      "end_disp\n",
      "y[5]= 8.0\n",
      "sum0= 10.7910379515\n",
      "end_disp\n",
      "end_regression\n",
      "divide\n",
      "1 x[i]= -2.0\n",
      "sum0= -8.0\n",
      "k= 1\n",
      "2x[i]= -1.33333333333\n",
      "sum1= -2.37037037037\n",
      "k1= 1\n",
      "2x[i]= -0.666666666667\n",
      "sum1= -2.66666666667\n",
      "k1= 2\n",
      "2x[i]= 0.0\n",
      "sum1= -2.66666666667\n",
      "k1= 3\n",
      "2x[i]= 0.666666666667\n",
      "sum1= -2.37037037037\n",
      "k1= 4\n",
      "2x[i]= 1.33333333333\n",
      "sum1= -2.22044604925e-15\n",
      "k1= 5\n",
      "2x[i]= 2.0\n",
      "sum1= 8.0\n",
      "k1= 6\n",
      "end_divide\n",
      "Xl=[-2.]\n",
      "Xr=[-1.33333333 -0.66666667  0.          0.66666667  1.33333333  2.        ]\n",
      "yl=[-8.]\n",
      "yr=[-2.37037037 -0.2962963   0.          0.2962963   2.37037037  8.        ]\n",
      "regression\n",
      "disp\n",
      "mean(y)-2.53765262771e-16\n",
      "y[0]= -8.0\n",
      "sum0= 9.14285714286\n",
      "end_disp\n",
      "y[1]= -2.37037037037\n",
      "sum0= 9.94552224182\n",
      "end_disp\n",
      "y[2]= -0.296296296296\n",
      "sum0= 9.95806388399\n",
      "end_disp\n",
      "y[3]= 0.0\n",
      "sum0= 9.95806388399\n",
      "end_disp\n",
      "y[4]= 0.296296296296\n",
      "sum0= 9.97060552616\n",
      "end_disp\n",
      "y[5]= 2.37037037037\n",
      "sum0= 10.7732706251\n",
      "end_disp\n",
      "y[6]= 8.0\n",
      "sum0= 19.916127768\n",
      "end_disp\n",
      "disp\n",
      "mean(y)-8.0\n",
      "y[0]= -8.0\n",
      "sum0= 0.0\n",
      "end_disp\n",
      "disp\n",
      "mean(y)1.33333333333\n",
      "y[0]= -2.37037037037\n",
      "sum0= 2.28623685414\n",
      "end_disp\n",
      "y[1]= -0.296296296296\n",
      "sum0= 2.7288523091\n",
      "end_disp\n",
      "y[2]= 0.0\n",
      "sum0= 3.0251486054\n",
      "end_disp\n",
      "y[3]= 0.296296296296\n",
      "sum0= 3.20438957476\n",
      "end_disp\n",
      "y[4]= 2.37037037037\n",
      "sum0= 3.38363054412\n",
      "end_disp\n",
      "y[5]= 8.0\n",
      "sum0= 10.7910379515\n",
      "end_disp\n",
      "end_regression\n",
      "divide\n",
      "1 x[i]= -2.0\n",
      "sum0= -8.0\n",
      "k= 1\n",
      "1 x[i]= -1.33333333333\n",
      "sum0= -10.3703703704\n",
      "k= 2\n",
      "2x[i]= -0.666666666667\n",
      "sum1= -0.296296296296\n",
      "k1= 1\n",
      "2x[i]= 0.0\n",
      "sum1= -0.296296296296\n",
      "k1= 2\n",
      "2x[i]= 0.666666666667\n",
      "sum1= -2.77555756156e-16\n",
      "k1= 3\n",
      "2x[i]= 1.33333333333\n",
      "sum1= 2.37037037037\n",
      "k1= 4\n",
      "2x[i]= 2.0\n",
      "sum1= 10.3703703704\n",
      "k1= 5\n",
      "end_divide\n",
      "Xl=[-2.         -1.33333333]\n",
      "Xr=[-0.66666667  0.          0.66666667  1.33333333  2.        ]\n",
      "yl=[-8.         -2.37037037]\n",
      "yr=[-0.2962963   0.          0.2962963   2.37037037  8.        ]\n",
      "regression\n",
      "disp\n",
      "mean(y)-2.53765262771e-16\n",
      "y[0]= -8.0\n",
      "sum0= 9.14285714286\n",
      "end_disp\n",
      "y[1]= -2.37037037037\n",
      "sum0= 9.94552224182\n",
      "end_disp\n",
      "y[2]= -0.296296296296\n",
      "sum0= 9.95806388399\n",
      "end_disp\n",
      "y[3]= 0.0\n",
      "sum0= 9.95806388399\n",
      "end_disp\n",
      "y[4]= 0.296296296296\n",
      "sum0= 9.97060552616\n",
      "end_disp\n",
      "y[5]= 2.37037037037\n",
      "sum0= 10.7732706251\n",
      "end_disp\n",
      "y[6]= 8.0\n",
      "sum0= 19.916127768\n",
      "end_disp\n",
      "disp\n",
      "mean(y)-5.18518518519\n",
      "y[0]= -8.0\n",
      "sum0= 3.96159122085\n",
      "end_disp\n",
      "y[1]= -2.37037037037\n",
      "sum0= 7.9231824417\n",
      "end_disp\n",
      "disp\n",
      "mean(y)2.07407407407\n",
      "y[0]= -0.296296296296\n",
      "sum0= 1.12373113855\n",
      "end_disp\n",
      "y[1]= 0.0\n",
      "sum0= 1.9840877915\n",
      "end_disp\n",
      "y[2]= 0.296296296296\n",
      "sum0= 2.61618655693\n",
      "end_disp\n",
      "y[3]= 2.37037037037\n",
      "sum0= 2.63374485597\n",
      "end_disp\n",
      "y[4]= 8.0\n",
      "sum0= 9.65706447188\n",
      "end_disp\n",
      "end_regression\n",
      "divide\n",
      "1 x[i]= -2.0\n",
      "sum0= -8.0\n",
      "k= 1\n",
      "1 x[i]= -1.33333333333\n",
      "sum0= -10.3703703704\n",
      "k= 2\n",
      "1 x[i]= -0.666666666667\n",
      "sum0= -10.6666666667\n",
      "k= 3\n",
      "2x[i]= 0.0\n",
      "sum1= 0.0\n",
      "k1= 1\n",
      "2x[i]= 0.666666666667\n",
      "sum1= 0.296296296296\n",
      "k1= 2\n",
      "2x[i]= 1.33333333333\n",
      "sum1= 2.66666666667\n",
      "k1= 3\n",
      "2x[i]= 2.0\n",
      "sum1= 10.6666666667\n",
      "k1= 4\n",
      "end_divide\n",
      "Xl=[-2.         -1.33333333 -0.66666667]\n",
      "Xr=[ 0.          0.66666667  1.33333333  2.        ]\n",
      "yl=[-8.         -2.37037037 -0.2962963 ]\n",
      "yr=[ 0.          0.2962963   2.37037037  8.        ]\n",
      "regression\n",
      "disp\n",
      "mean(y)-2.53765262771e-16\n",
      "y[0]= -8.0\n",
      "sum0= 9.14285714286\n",
      "end_disp\n",
      "y[1]= -2.37037037037\n",
      "sum0= 9.94552224182\n",
      "end_disp\n",
      "y[2]= -0.296296296296\n",
      "sum0= 9.95806388399\n",
      "end_disp\n",
      "y[3]= 0.0\n",
      "sum0= 9.95806388399\n",
      "end_disp\n",
      "y[4]= 0.296296296296\n",
      "sum0= 9.97060552616\n",
      "end_disp\n",
      "y[5]= 2.37037037037\n",
      "sum0= 10.7732706251\n",
      "end_disp\n",
      "y[6]= 8.0\n",
      "sum0= 19.916127768\n",
      "end_disp\n",
      "disp\n",
      "mean(y)-3.55555555556\n",
      "y[0]= -8.0\n",
      "sum0= 6.58436213992\n",
      "end_disp\n",
      "y[1]= -2.37037037037\n",
      "sum0= 7.05258344765\n",
      "end_disp\n",
      "y[2]= -0.296296296296\n",
      "sum0= 10.5935070873\n",
      "end_disp\n",
      "disp\n",
      "mean(y)2.66666666667\n",
      "y[0]= 0.0\n",
      "sum0= 1.77777777778\n",
      "end_disp\n",
      "y[1]= 0.296296296296\n",
      "sum0= 3.18244170096\n",
      "end_disp\n",
      "y[2]= 2.37037037037\n",
      "sum0= 3.20438957476\n",
      "end_disp\n",
      "y[3]= 8.0\n",
      "sum0= 10.3155006859\n",
      "end_disp\n",
      "end_regression\n",
      "divide\n",
      "1 x[i]= -2.0\n",
      "sum0= -8.0\n",
      "k= 1\n",
      "1 x[i]= -1.33333333333\n",
      "sum0= -10.3703703704\n",
      "k= 2\n",
      "1 x[i]= -0.666666666667\n",
      "sum0= -10.6666666667\n",
      "k= 3\n",
      "1 x[i]= 0.0\n",
      "sum0= -10.6666666667\n",
      "k= 4\n",
      "2x[i]= 0.666666666667\n",
      "sum1= 0.296296296296\n",
      "k1= 1\n",
      "2x[i]= 1.33333333333\n",
      "sum1= 2.66666666667\n",
      "k1= 2\n",
      "2x[i]= 2.0\n",
      "sum1= 10.6666666667\n",
      "k1= 3\n",
      "end_divide\n",
      "Xl=[-2.         -1.33333333 -0.66666667  0.        ]\n",
      "Xr=[ 0.66666667  1.33333333  2.        ]\n",
      "yl=[-8.         -2.37037037 -0.2962963   0.        ]\n",
      "yr=[ 0.2962963   2.37037037  8.        ]\n",
      "regression\n",
      "disp\n",
      "mean(y)-2.53765262771e-16\n",
      "y[0]= -8.0\n",
      "sum0= 9.14285714286\n",
      "end_disp\n",
      "y[1]= -2.37037037037\n",
      "sum0= 9.94552224182\n",
      "end_disp\n",
      "y[2]= -0.296296296296\n",
      "sum0= 9.95806388399\n",
      "end_disp\n",
      "y[3]= 0.0\n",
      "sum0= 9.95806388399\n",
      "end_disp\n",
      "y[4]= 0.296296296296\n",
      "sum0= 9.97060552616\n",
      "end_disp\n",
      "y[5]= 2.37037037037\n",
      "sum0= 10.7732706251\n",
      "end_disp\n",
      "y[6]= 8.0\n",
      "sum0= 19.916127768\n",
      "end_disp\n",
      "disp\n",
      "mean(y)-2.66666666667\n",
      "y[0]= -8.0\n",
      "sum0= 7.11111111111\n",
      "end_disp\n",
      "y[1]= -2.37037037037\n",
      "sum0= 7.13305898491\n",
      "end_disp\n",
      "y[2]= -0.296296296296\n",
      "sum0= 8.53772290809\n",
      "end_disp\n",
      "y[3]= 0.0\n",
      "sum0= 10.3155006859\n",
      "end_disp\n",
      "disp\n",
      "mean(y)3.55555555556\n",
      "y[0]= 0.296296296296\n",
      "sum0= 3.54092363969\n",
      "end_disp\n",
      "y[1]= 2.37037037037\n",
      "sum0= 4.00914494742\n",
      "end_disp\n",
      "y[2]= 8.0\n",
      "sum0= 10.5935070873\n",
      "end_disp\n",
      "end_regression\n",
      "divide\n",
      "1 x[i]= -2.0\n",
      "sum0= -8.0\n",
      "k= 1\n",
      "1 x[i]= -1.33333333333\n",
      "sum0= -10.3703703704\n",
      "k= 2\n",
      "1 x[i]= -0.666666666667\n",
      "sum0= -10.6666666667\n",
      "k= 3\n",
      "1 x[i]= 0.0\n",
      "sum0= -10.6666666667\n",
      "k= 4\n",
      "1 x[i]= 0.666666666667\n",
      "sum0= -10.3703703704\n",
      "k= 5\n",
      "2x[i]= 1.33333333333\n",
      "sum1= 2.37037037037\n",
      "k1= 1\n",
      "2x[i]= 2.0\n",
      "sum1= 10.3703703704\n",
      "k1= 2\n",
      "end_divide\n",
      "Xl=[-2.         -1.33333333 -0.66666667  0.          0.66666667]\n",
      "Xr=[ 1.33333333  2.        ]\n",
      "yl=[-8.         -2.37037037 -0.2962963   0.          0.2962963 ]\n",
      "yr=[ 2.37037037  8.        ]\n",
      "regression\n",
      "disp\n",
      "mean(y)-2.53765262771e-16\n",
      "y[0]= -8.0\n",
      "sum0= 9.14285714286\n",
      "end_disp\n",
      "y[1]= -2.37037037037\n",
      "sum0= 9.94552224182\n",
      "end_disp\n",
      "y[2]= -0.296296296296\n",
      "sum0= 9.95806388399\n",
      "end_disp\n",
      "y[3]= 0.0\n",
      "sum0= 9.95806388399\n",
      "end_disp\n",
      "y[4]= 0.296296296296\n",
      "sum0= 9.97060552616\n",
      "end_disp\n",
      "y[5]= 2.37037037037\n",
      "sum0= 10.7732706251\n",
      "end_disp\n",
      "y[6]= 8.0\n",
      "sum0= 19.916127768\n",
      "end_disp\n",
      "disp\n",
      "mean(y)-2.07407407407\n",
      "y[0]= -8.0\n",
      "sum0= 7.02331961591\n",
      "end_disp\n",
      "y[1]= -2.37037037037\n",
      "sum0= 7.04087791495\n",
      "end_disp\n",
      "y[2]= -0.296296296296\n",
      "sum0= 7.67297668038\n",
      "end_disp\n",
      "y[3]= 0.0\n",
      "sum0= 8.53333333333\n",
      "end_disp\n",
      "y[4]= 0.296296296296\n",
      "sum0= 9.65706447188\n",
      "end_disp\n",
      "disp\n",
      "mean(y)5.18518518519\n",
      "y[0]= 2.37037037037\n",
      "sum0= 3.96159122085\n",
      "end_disp\n",
      "y[1]= 8.0\n",
      "sum0= 7.9231824417\n",
      "end_disp\n",
      "end_regression\n",
      "divide\n",
      "1 x[i]= -2.0\n",
      "sum0= -8.0\n",
      "k= 1\n",
      "1 x[i]= -1.33333333333\n",
      "sum0= -10.3703703704\n",
      "k= 2\n",
      "1 x[i]= -0.666666666667\n",
      "sum0= -10.6666666667\n",
      "k= 3\n",
      "1 x[i]= 0.0\n",
      "sum0= -10.6666666667\n",
      "k= 4\n",
      "1 x[i]= 0.666666666667\n",
      "sum0= -10.3703703704\n",
      "k= 5\n",
      "1 x[i]= 1.33333333333\n",
      "sum0= -8.0\n",
      "k= 6\n",
      "2x[i]= 2.0\n",
      "sum1= 8.0\n",
      "k1= 1\n",
      "end_divide\n",
      "Xl=[-2.         -1.33333333 -0.66666667  0.          0.66666667  1.33333333]\n",
      "Xr=[ 2.]\n",
      "yl=[-8.         -2.37037037 -0.2962963   0.          0.2962963   2.37037037]\n",
      "yr=[ 8.]\n",
      "regression\n",
      "disp\n",
      "mean(y)-2.53765262771e-16\n",
      "y[0]= -8.0\n",
      "sum0= 9.14285714286\n",
      "end_disp\n",
      "y[1]= -2.37037037037\n",
      "sum0= 9.94552224182\n",
      "end_disp\n",
      "y[2]= -0.296296296296\n",
      "sum0= 9.95806388399\n",
      "end_disp\n",
      "y[3]= 0.0\n",
      "sum0= 9.95806388399\n",
      "end_disp\n",
      "y[4]= 0.296296296296\n",
      "sum0= 9.97060552616\n",
      "end_disp\n",
      "y[5]= 2.37037037037\n",
      "sum0= 10.7732706251\n",
      "end_disp\n",
      "y[6]= 8.0\n",
      "sum0= 19.916127768\n",
      "end_disp\n",
      "disp\n",
      "mean(y)-1.33333333333\n",
      "y[0]= -8.0\n",
      "sum0= 7.40740740741\n",
      "end_disp\n",
      "y[1]= -2.37037037037\n",
      "sum0= 7.58664837677\n",
      "end_disp\n",
      "y[2]= -0.296296296296\n",
      "sum0= 7.76588934614\n",
      "end_disp\n",
      "y[3]= 0.0\n",
      "sum0= 8.06218564243\n",
      "end_disp\n",
      "y[4]= 0.296296296296\n",
      "sum0= 8.50480109739\n",
      "end_disp\n",
      "y[5]= 2.37037037037\n",
      "sum0= 10.7910379515\n",
      "end_disp\n",
      "disp\n",
      "mean(y)8.0\n",
      "y[0]= 8.0\n",
      "sum0= 0.0\n",
      "end_disp\n",
      "end_regression\n"
     ]
    }
   ],
   "source": [
    "z=[]\n",
    "xmini=[]\n",
    "xmini.append(-1.9)\n",
    "z.append(regression_var_criterion(X, y,-1.9))\n",
    "for i in range(1, 6):\n",
    "    z.append(regression_var_criterion(X, y,x[i]))\n",
    "    xmini.append(x[i])\n",
    "z.append(regression_var_criterion(X, y,1.9))\n",
    "xmini.append(1.9)\n"
   ]
  },
  {
   "cell_type": "code",
   "execution_count": 81,
   "metadata": {},
   "outputs": [
    {
     "data": {
      "text/plain": [
       "[19.916127767979617,\n",
       " 19.916127767979617,\n",
       " 17.652361356065057,\n",
       " 15.376053301979226,\n",
       " 14.02155594748187,\n",
       " 13.018224573780127,\n",
       " 10.666666666666668]"
      ]
     },
     "execution_count": 81,
     "metadata": {},
     "output_type": "execute_result"
    }
   ],
   "source": [
    "z"
   ]
  },
  {
   "cell_type": "code",
   "execution_count": 83,
   "metadata": {},
   "outputs": [
    {
     "data": {
      "text/plain": [
       "[-1.9,\n",
       " -1.3333333333333335,\n",
       " -0.66666666666666674,\n",
       " 0.0,\n",
       " 0.66666666666666652,\n",
       " 1.333333333333333,\n",
       " 1.9]"
      ]
     },
     "execution_count": 83,
     "metadata": {},
     "output_type": "execute_result"
    }
   ],
   "source": [
    "xmini"
   ]
  },
  {
   "cell_type": "code",
   "execution_count": 84,
   "metadata": {
    "collapsed": true
   },
   "outputs": [],
   "source": [
    "z=np.array(z)\n",
    "xmini=np.array(xmini)"
   ]
  },
  {
   "cell_type": "code",
   "execution_count": 85,
   "metadata": {},
   "outputs": [
    {
     "data": {
      "image/png": "[encoded data removed]",
      "text/plain": [
       "<matplotlib.figure.Figure at 0xce12588>"
      ]
     },
     "metadata": {},
     "output_type": "display_data"
    }
   ],
   "source": [
    "plt.scatter(xmini, z)\n",
    "plt.xlabel(r'$x$')\n",
    "plt.ylabel(r'$y$');"
   ]
  },
  {
   "cell_type": "code",
   "execution_count": 86,
   "metadata": {
    "collapsed": true
   },
   "outputs": [],
   "source": [
    "from __future__ import division, print_function\n",
    "# отключим всякие предупреждения Anaconda\n",
    "import warnings\n",
    "warnings.filterwarnings('ignore')\n",
    "import numpy as np\n",
    "import pandas as pd\n",
    "%matplotlib inline\n",
    "import seaborn as sns\n",
    "from matplotlib import pyplot as plt"
   ]
  },
  {
   "cell_type": "code",
   "execution_count": 88,
   "metadata": {},
   "outputs": [
    {
     "data": {
      "image/png": "[encoded data removed]",
      "text/plain": [
       "<matplotlib.figure.Figure at 0xd44b4e0>"
      ]
     },
     "metadata": {},
     "output_type": "display_data"
    }
   ],
   "source": [
    "plt.rcParams['figure.figsize'] = (6,4)\n",
    "xx = np.linspace(0,1,50)\n",
    "plt.plot(xx, [2 * x * (1-x) for x in xx], label='gini')\n",
    "plt.plot(xx, [4 * x * (1-x) for x in xx], label='2*gini')\n",
    "plt.plot(xx, [-x * np.log2(x) - (1-x) * np.log2(1 - x)  for x in xx], label='entropy')\n",
    "plt.plot(xx, [1 - max(x, 1-x) for x in xx], label='missclass')\n",
    "plt.plot(xx, [2 - 2 * max(x, 1-x) for x in xx], label='2*missclass')\n",
    "plt.xlabel('p+')\n",
    "plt.ylabel('criterion')\n",
    "plt.title('Quality qriterias as functions from p+ (binary classification)')\n",
    "plt.legend();"
   ]
  },
  {
   "cell_type": "code",
   "execution_count": 92,
   "metadata": {
    "collapsed": true
   },
   "outputs": [],
   "source": [
    "# первый класс\n",
    "np.seed = 7\n",
    "train_data = np.random.normal(size=(100, 2))\n",
    "train_labels = np.zeros(100)\n",
    "\n",
    "# добавляем второй класс\n",
    "train_data = np.r_[train_data, np.random.normal(size=(100, 2), loc=2)]\n",
    "train_labels = np.r_[train_labels, np.ones(100)]"
   ]
  },
  {
   "cell_type": "code",
   "execution_count": 93,
   "metadata": {},
   "outputs": [
    {
     "data": {
      "image/png": "[encoded data removed]",
      "text/plain": [
       "<matplotlib.figure.Figure at 0xdaba4a8>"
      ]
     },
     "metadata": {},
     "output_type": "display_data"
    }
   ],
   "source": [
    "plt.rcParams['figure.figsize'] = (10,8)\n",
    "plt.scatter(train_data[:, 0], train_data[:, 1], c=train_labels, s=100, \n",
    "cmap='autumn', edgecolors='black', linewidth=1.5);\n",
    "plt.plot(range(-2,5), range(4,-3,-1));"
   ]
  },
  {
   "cell_type": "code",
   "execution_count": 98,
   "metadata": {},
   "outputs": [
    {
     "data": {
      "image/png": "[encoded data removed]",
      "text/plain": [
       "<matplotlib.figure.Figure at 0x20525f8>"
      ]
     },
     "metadata": {},
     "output_type": "display_data"
    }
   ],
   "source": [
    "from sklearn.tree import DecisionTreeClassifier\n",
    "\n",
    "# Напишем вспомогательную функцию, которая будет возвращать решетку для дальнейшей визуализации.\n",
    "def get_grid(data):\n",
    "    x_min, x_max = data[:, 0].min() - 1, data[:, 0].max() + 1\n",
    "    y_min, y_max = data[:, 1].min() - 1, data[:, 1].max() + 1\n",
    "    return np.meshgrid(np.arange(x_min, x_max, 0.01), np.arange(y_min, y_max, 0.01))\n",
    "\n",
    "# параметр min_samples_leaf указывает, при каком минимальном количестве\n",
    "# элементов в узле он будет дальше разделяться\n",
    "clf_tree = DecisionTreeClassifier(criterion='entropy', max_depth=3, random_state=17)\n",
    "\n",
    "# обучаем дерево\n",
    "clf_tree.fit(train_data, train_labels)\n",
    "\n",
    "# немного кода для отображения разделяющей поверхности\n",
    "xx, yy = get_grid(train_data)\n",
    "predicted = clf_tree.predict(np.c_[xx.ravel(), yy.ravel()]).reshape(xx.shape)\n",
    "plt.pcolormesh(xx, yy, predicted, cmap='autumn')\n",
    "plt.scatter(train_data[:, 0], train_data[:, 1], c=train_labels, s=100, \n",
    "cmap='autumn', edgecolors='black', linewidth=1.5);"
   ]
  },
  {
   "cell_type": "code",
   "execution_count": 110,
   "metadata": {
    "collapsed": true
   },
   "outputs": [],
   "source": [
    "# используем .dot формат для визуализации дерева\n",
    "from sklearn.tree import export_graphviz\n",
    "export_graphviz(clf_tree, feature_names=['x1', 'x2'], \n",
    "out_file=r'C:\\small_tree.dot', filled=True)\n"
   ]
  },
  {
   "cell_type": "code",
   "execution_count": 112,
   "metadata": {},
   "outputs": [
    {
     "name": "stderr",
     "output_type": "stream",
     "text": [
      "Error: dot: can't open r'C:\\small_tree.dot'\n",
      "Error: dot: can't open r'C:\\small_tree.png'\n"
     ]
    }
   ],
   "source": [
    "# для этого понадобится библиотека pydot (pip install pydot)\n",
    "!dot -Tpng r'C:\\small_tree.dot' > -o r'C:\\small_tree.png'"
   ]
  },
  {
   "cell_type": "code",
   "execution_count": 113,
   "metadata": {},
   "outputs": [
    {
     "data": {
      "image/png": "[encoded data removed]",
      "text/plain": [
       "<matplotlib.figure.Figure at 0xe631ba8>"
      ]
     },
     "metadata": {},
     "output_type": "display_data"
    }
   ],
   "source": [
    "n_train = 150        \n",
    "n_test = 1000       \n",
    "noise = 0.1\n",
    "\n",
    "def f(x):\n",
    "    x = x.ravel()\n",
    "    return np.exp(-x ** 2) + 1.5 * np.exp(-(x - 2) ** 2)\n",
    "\n",
    "def generate(n_samples, noise):\n",
    "    X = np.random.rand(n_samples) * 10 - 5\n",
    "    X = np.sort(X).ravel()\n",
    "    y = np.exp(-X ** 2) + 1.5 * np.exp(-(X - 2) ** 2) + \\\n",
    "    np.random.normal(0.0, noise, n_samples)\n",
    "    X = X.reshape((n_samples, 1))\n",
    "    return X, y\n",
    "\n",
    "X_train, y_train = generate(n_samples=n_train, noise=noise)\n",
    "X_test, y_test = generate(n_samples=n_test, noise=noise)\n",
    "\n",
    "from sklearn.tree import DecisionTreeRegressor\n",
    "\n",
    "reg_tree = DecisionTreeRegressor(max_depth=5, random_state=17)\n",
    "\n",
    "reg_tree.fit(X_train, y_train)\n",
    "reg_tree_pred = reg_tree.predict(X_test)\n",
    "\n",
    "plt.figure(figsize=(10, 6))\n",
    "plt.plot(X_test, f(X_test), \"b\")\n",
    "plt.scatter(X_train, y_train, c=\"b\", s=20)\n",
    "plt.plot(X_test, reg_tree_pred, \"g\", lw=2)\n",
    "plt.xlim([-5, 5])\n",
    "plt.title(\"Decision tree regressor, MSE = %.2f\" % np.sum((y_test - reg_tree_pred) ** 2))\n",
    "plt.show()"
   ]
  },
  {
   "cell_type": "code",
   "execution_count": 4,
   "metadata": {},
   "outputs": [],
   "source": [
    "df = pd.read_csv(r'C:\\Users\\User\\Desktop\\mlcourse_open\\data\\mlbootcamp5_train.csv', \n",
    "                 index_col='id', sep=';')\n",
    "\n"
   ]
  },
  {
   "cell_type": "code",
   "execution_count": 5,
   "metadata": {},
   "outputs": [
    {
     "data": {
      "text/html": [
       "<div>\n",
       "<style>\n",
       "    .dataframe thead tr:only-child th {\n",
       "        text-align: right;\n",
       "    }\n",
       "\n",
       "    .dataframe thead th {\n",
       "        text-align: left;\n",
       "    }\n",
       "\n",
       "    .dataframe tbody tr th {\n",
       "        vertical-align: top;\n",
       "    }\n",
       "</style>\n",
       "<table border=\"1\" class=\"dataframe\">\n",
       "  <thead>\n",
       "    <tr style=\"text-align: right;\">\n",
       "      <th></th>\n",
       "      <th>age</th>\n",
       "      <th>gender</th>\n",
       "      <th>height</th>\n",
       "      <th>weight</th>\n",
       "      <th>ap_hi</th>\n",
       "      <th>ap_lo</th>\n",
       "      <th>cholesterol</th>\n",
       "      <th>gluc</th>\n",
       "      <th>smoke</th>\n",
       "      <th>alco</th>\n",
       "      <th>active</th>\n",
       "      <th>cardio</th>\n",
       "    </tr>\n",
       "    <tr>\n",
       "      <th>id</th>\n",
       "      <th></th>\n",
       "      <th></th>\n",
       "      <th></th>\n",
       "      <th></th>\n",
       "      <th></th>\n",
       "      <th></th>\n",
       "      <th></th>\n",
       "      <th></th>\n",
       "      <th></th>\n",
       "      <th></th>\n",
       "      <th></th>\n",
       "      <th></th>\n",
       "    </tr>\n",
       "  </thead>\n",
       "  <tbody>\n",
       "    <tr>\n",
       "      <th>0</th>\n",
       "      <td>18393</td>\n",
       "      <td>2</td>\n",
       "      <td>168</td>\n",
       "      <td>62.0</td>\n",
       "      <td>110</td>\n",
       "      <td>80</td>\n",
       "      <td>1</td>\n",
       "      <td>1</td>\n",
       "      <td>0</td>\n",
       "      <td>0</td>\n",
       "      <td>1</td>\n",
       "      <td>0</td>\n",
       "    </tr>\n",
       "    <tr>\n",
       "      <th>1</th>\n",
       "      <td>20228</td>\n",
       "      <td>1</td>\n",
       "      <td>156</td>\n",
       "      <td>85.0</td>\n",
       "      <td>140</td>\n",
       "      <td>90</td>\n",
       "      <td>3</td>\n",
       "      <td>1</td>\n",
       "      <td>0</td>\n",
       "      <td>0</td>\n",
       "      <td>1</td>\n",
       "      <td>1</td>\n",
       "    </tr>\n",
       "    <tr>\n",
       "      <th>2</th>\n",
       "      <td>18857</td>\n",
       "      <td>1</td>\n",
       "      <td>165</td>\n",
       "      <td>64.0</td>\n",
       "      <td>130</td>\n",
       "      <td>70</td>\n",
       "      <td>3</td>\n",
       "      <td>1</td>\n",
       "      <td>0</td>\n",
       "      <td>0</td>\n",
       "      <td>0</td>\n",
       "      <td>1</td>\n",
       "    </tr>\n",
       "    <tr>\n",
       "      <th>3</th>\n",
       "      <td>17623</td>\n",
       "      <td>2</td>\n",
       "      <td>169</td>\n",
       "      <td>82.0</td>\n",
       "      <td>150</td>\n",
       "      <td>100</td>\n",
       "      <td>1</td>\n",
       "      <td>1</td>\n",
       "      <td>0</td>\n",
       "      <td>0</td>\n",
       "      <td>1</td>\n",
       "      <td>1</td>\n",
       "    </tr>\n",
       "    <tr>\n",
       "      <th>4</th>\n",
       "      <td>17474</td>\n",
       "      <td>1</td>\n",
       "      <td>156</td>\n",
       "      <td>56.0</td>\n",
       "      <td>100</td>\n",
       "      <td>60</td>\n",
       "      <td>1</td>\n",
       "      <td>1</td>\n",
       "      <td>0</td>\n",
       "      <td>0</td>\n",
       "      <td>0</td>\n",
       "      <td>0</td>\n",
       "    </tr>\n",
       "  </tbody>\n",
       "</table>\n",
       "</div>"
      ],
      "text/plain": [
       "      age  gender  height  weight  ap_hi  ap_lo  cholesterol  gluc  smoke  \\\n",
       "id                                                                          \n",
       "0   18393       2     168    62.0    110     80            1     1      0   \n",
       "1   20228       1     156    85.0    140     90            3     1      0   \n",
       "2   18857       1     165    64.0    130     70            3     1      0   \n",
       "3   17623       2     169    82.0    150    100            1     1      0   \n",
       "4   17474       1     156    56.0    100     60            1     1      0   \n",
       "\n",
       "    alco  active  cardio  \n",
       "id                        \n",
       "0      0       1       0  \n",
       "1      0       1       1  \n",
       "2      0       0       1  \n",
       "3      0       1       1  \n",
       "4      0       0       0  "
      ]
     },
     "execution_count": 5,
     "metadata": {},
     "output_type": "execute_result"
    }
   ],
   "source": [
    "df.head()"
   ]
  },
  {
   "cell_type": "code",
   "execution_count": 6,
   "metadata": {},
   "outputs": [],
   "source": [
    "df['age_years']=df['age']/365"
   ]
  },
  {
   "cell_type": "code",
   "execution_count": 9,
   "metadata": {},
   "outputs": [
    {
     "data": {
      "text/html": [
       "<div>\n",
       "<style>\n",
       "    .dataframe thead tr:only-child th {\n",
       "        text-align: right;\n",
       "    }\n",
       "\n",
       "    .dataframe thead th {\n",
       "        text-align: left;\n",
       "    }\n",
       "\n",
       "    .dataframe tbody tr th {\n",
       "        vertical-align: top;\n",
       "    }\n",
       "</style>\n",
       "<table border=\"1\" class=\"dataframe\">\n",
       "  <thead>\n",
       "    <tr style=\"text-align: right;\">\n",
       "      <th></th>\n",
       "      <th>age</th>\n",
       "      <th>gender</th>\n",
       "      <th>height</th>\n",
       "      <th>weight</th>\n",
       "      <th>ap_hi</th>\n",
       "      <th>ap_lo</th>\n",
       "      <th>cholesterol</th>\n",
       "      <th>gluc</th>\n",
       "      <th>smoke</th>\n",
       "      <th>alco</th>\n",
       "      <th>active</th>\n",
       "      <th>cardio</th>\n",
       "      <th>age_years</th>\n",
       "    </tr>\n",
       "    <tr>\n",
       "      <th>id</th>\n",
       "      <th></th>\n",
       "      <th></th>\n",
       "      <th></th>\n",
       "      <th></th>\n",
       "      <th></th>\n",
       "      <th></th>\n",
       "      <th></th>\n",
       "      <th></th>\n",
       "      <th></th>\n",
       "      <th></th>\n",
       "      <th></th>\n",
       "      <th></th>\n",
       "      <th></th>\n",
       "    </tr>\n",
       "  </thead>\n",
       "  <tbody>\n",
       "    <tr>\n",
       "      <th>0</th>\n",
       "      <td>18393</td>\n",
       "      <td>2</td>\n",
       "      <td>168</td>\n",
       "      <td>62.0</td>\n",
       "      <td>110</td>\n",
       "      <td>80</td>\n",
       "      <td>1</td>\n",
       "      <td>1</td>\n",
       "      <td>0</td>\n",
       "      <td>0</td>\n",
       "      <td>1</td>\n",
       "      <td>0</td>\n",
       "      <td>50.0</td>\n",
       "    </tr>\n",
       "    <tr>\n",
       "      <th>1</th>\n",
       "      <td>20228</td>\n",
       "      <td>1</td>\n",
       "      <td>156</td>\n",
       "      <td>85.0</td>\n",
       "      <td>140</td>\n",
       "      <td>90</td>\n",
       "      <td>3</td>\n",
       "      <td>1</td>\n",
       "      <td>0</td>\n",
       "      <td>0</td>\n",
       "      <td>1</td>\n",
       "      <td>1</td>\n",
       "      <td>55.0</td>\n",
       "    </tr>\n",
       "    <tr>\n",
       "      <th>2</th>\n",
       "      <td>18857</td>\n",
       "      <td>1</td>\n",
       "      <td>165</td>\n",
       "      <td>64.0</td>\n",
       "      <td>130</td>\n",
       "      <td>70</td>\n",
       "      <td>3</td>\n",
       "      <td>1</td>\n",
       "      <td>0</td>\n",
       "      <td>0</td>\n",
       "      <td>0</td>\n",
       "      <td>1</td>\n",
       "      <td>51.0</td>\n",
       "    </tr>\n",
       "    <tr>\n",
       "      <th>3</th>\n",
       "      <td>17623</td>\n",
       "      <td>2</td>\n",
       "      <td>169</td>\n",
       "      <td>82.0</td>\n",
       "      <td>150</td>\n",
       "      <td>100</td>\n",
       "      <td>1</td>\n",
       "      <td>1</td>\n",
       "      <td>0</td>\n",
       "      <td>0</td>\n",
       "      <td>1</td>\n",
       "      <td>1</td>\n",
       "      <td>48.0</td>\n",
       "    </tr>\n",
       "    <tr>\n",
       "      <th>4</th>\n",
       "      <td>17474</td>\n",
       "      <td>1</td>\n",
       "      <td>156</td>\n",
       "      <td>56.0</td>\n",
       "      <td>100</td>\n",
       "      <td>60</td>\n",
       "      <td>1</td>\n",
       "      <td>1</td>\n",
       "      <td>0</td>\n",
       "      <td>0</td>\n",
       "      <td>0</td>\n",
       "      <td>0</td>\n",
       "      <td>47.0</td>\n",
       "    </tr>\n",
       "  </tbody>\n",
       "</table>\n",
       "</div>"
      ],
      "text/plain": [
       "      age  gender  height  weight  ap_hi  ap_lo  cholesterol  gluc  smoke  \\\n",
       "id                                                                          \n",
       "0   18393       2     168    62.0    110     80            1     1      0   \n",
       "1   20228       1     156    85.0    140     90            3     1      0   \n",
       "2   18857       1     165    64.0    130     70            3     1      0   \n",
       "3   17623       2     169    82.0    150    100            1     1      0   \n",
       "4   17474       1     156    56.0    100     60            1     1      0   \n",
       "\n",
       "    alco  active  cardio  age_years  \n",
       "id                                   \n",
       "0      0       1       0       50.0  \n",
       "1      0       1       1       55.0  \n",
       "2      0       0       1       51.0  \n",
       "3      0       1       1       48.0  \n",
       "4      0       0       0       47.0  "
      ]
     },
     "execution_count": 9,
     "metadata": {},
     "output_type": "execute_result"
    }
   ],
   "source": [
    "df.head()"
   ]
  },
  {
   "cell_type": "code",
   "execution_count": 8,
   "metadata": {
    "collapsed": true
   },
   "outputs": [],
   "source": [
    "df['age_years']=df['age_years'].apply('floor')"
   ]
  },
  {
   "cell_type": "code",
   "execution_count": 11,
   "metadata": {},
   "outputs": [
    {
     "data": {
      "text/html": [
       "<div>\n",
       "<style>\n",
       "    .dataframe thead tr:only-child th {\n",
       "        text-align: right;\n",
       "    }\n",
       "\n",
       "    .dataframe thead th {\n",
       "        text-align: left;\n",
       "    }\n",
       "\n",
       "    .dataframe tbody tr th {\n",
       "        vertical-align: top;\n",
       "    }\n",
       "</style>\n",
       "<table border=\"1\" class=\"dataframe\">\n",
       "  <thead>\n",
       "    <tr style=\"text-align: right;\">\n",
       "      <th></th>\n",
       "      <th>chol_1</th>\n",
       "      <th>chol_2</th>\n",
       "      <th>chol_3</th>\n",
       "    </tr>\n",
       "    <tr>\n",
       "      <th>id</th>\n",
       "      <th></th>\n",
       "      <th></th>\n",
       "      <th></th>\n",
       "    </tr>\n",
       "  </thead>\n",
       "  <tbody>\n",
       "    <tr>\n",
       "      <th>0</th>\n",
       "      <td>1</td>\n",
       "      <td>0</td>\n",
       "      <td>0</td>\n",
       "    </tr>\n",
       "    <tr>\n",
       "      <th>1</th>\n",
       "      <td>0</td>\n",
       "      <td>0</td>\n",
       "      <td>1</td>\n",
       "    </tr>\n",
       "    <tr>\n",
       "      <th>2</th>\n",
       "      <td>0</td>\n",
       "      <td>0</td>\n",
       "      <td>1</td>\n",
       "    </tr>\n",
       "    <tr>\n",
       "      <th>3</th>\n",
       "      <td>1</td>\n",
       "      <td>0</td>\n",
       "      <td>0</td>\n",
       "    </tr>\n",
       "    <tr>\n",
       "      <th>4</th>\n",
       "      <td>1</td>\n",
       "      <td>0</td>\n",
       "      <td>0</td>\n",
       "    </tr>\n",
       "    <tr>\n",
       "      <th>8</th>\n",
       "      <td>0</td>\n",
       "      <td>1</td>\n",
       "      <td>0</td>\n",
       "    </tr>\n",
       "    <tr>\n",
       "      <th>9</th>\n",
       "      <td>0</td>\n",
       "      <td>0</td>\n",
       "      <td>1</td>\n",
       "    </tr>\n",
       "    <tr>\n",
       "      <th>12</th>\n",
       "      <td>0</td>\n",
       "      <td>0</td>\n",
       "      <td>1</td>\n",
       "    </tr>\n",
       "    <tr>\n",
       "      <th>13</th>\n",
       "      <td>1</td>\n",
       "      <td>0</td>\n",
       "      <td>0</td>\n",
       "    </tr>\n",
       "    <tr>\n",
       "      <th>14</th>\n",
       "      <td>1</td>\n",
       "      <td>0</td>\n",
       "      <td>0</td>\n",
       "    </tr>\n",
       "    <tr>\n",
       "      <th>15</th>\n",
       "      <td>1</td>\n",
       "      <td>0</td>\n",
       "      <td>0</td>\n",
       "    </tr>\n",
       "    <tr>\n",
       "      <th>16</th>\n",
       "      <td>1</td>\n",
       "      <td>0</td>\n",
       "      <td>0</td>\n",
       "    </tr>\n",
       "    <tr>\n",
       "      <th>18</th>\n",
       "      <td>1</td>\n",
       "      <td>0</td>\n",
       "      <td>0</td>\n",
       "    </tr>\n",
       "    <tr>\n",
       "      <th>21</th>\n",
       "      <td>1</td>\n",
       "      <td>0</td>\n",
       "      <td>0</td>\n",
       "    </tr>\n",
       "    <tr>\n",
       "      <th>23</th>\n",
       "      <td>1</td>\n",
       "      <td>0</td>\n",
       "      <td>0</td>\n",
       "    </tr>\n",
       "    <tr>\n",
       "      <th>24</th>\n",
       "      <td>1</td>\n",
       "      <td>0</td>\n",
       "      <td>0</td>\n",
       "    </tr>\n",
       "    <tr>\n",
       "      <th>25</th>\n",
       "      <td>1</td>\n",
       "      <td>0</td>\n",
       "      <td>0</td>\n",
       "    </tr>\n",
       "    <tr>\n",
       "      <th>27</th>\n",
       "      <td>1</td>\n",
       "      <td>0</td>\n",
       "      <td>0</td>\n",
       "    </tr>\n",
       "    <tr>\n",
       "      <th>28</th>\n",
       "      <td>1</td>\n",
       "      <td>0</td>\n",
       "      <td>0</td>\n",
       "    </tr>\n",
       "    <tr>\n",
       "      <th>29</th>\n",
       "      <td>1</td>\n",
       "      <td>0</td>\n",
       "      <td>0</td>\n",
       "    </tr>\n",
       "    <tr>\n",
       "      <th>30</th>\n",
       "      <td>1</td>\n",
       "      <td>0</td>\n",
       "      <td>0</td>\n",
       "    </tr>\n",
       "    <tr>\n",
       "      <th>31</th>\n",
       "      <td>1</td>\n",
       "      <td>0</td>\n",
       "      <td>0</td>\n",
       "    </tr>\n",
       "    <tr>\n",
       "      <th>32</th>\n",
       "      <td>0</td>\n",
       "      <td>1</td>\n",
       "      <td>0</td>\n",
       "    </tr>\n",
       "    <tr>\n",
       "      <th>33</th>\n",
       "      <td>1</td>\n",
       "      <td>0</td>\n",
       "      <td>0</td>\n",
       "    </tr>\n",
       "    <tr>\n",
       "      <th>35</th>\n",
       "      <td>0</td>\n",
       "      <td>0</td>\n",
       "      <td>1</td>\n",
       "    </tr>\n",
       "    <tr>\n",
       "      <th>36</th>\n",
       "      <td>0</td>\n",
       "      <td>1</td>\n",
       "      <td>0</td>\n",
       "    </tr>\n",
       "    <tr>\n",
       "      <th>37</th>\n",
       "      <td>1</td>\n",
       "      <td>0</td>\n",
       "      <td>0</td>\n",
       "    </tr>\n",
       "    <tr>\n",
       "      <th>38</th>\n",
       "      <td>1</td>\n",
       "      <td>0</td>\n",
       "      <td>0</td>\n",
       "    </tr>\n",
       "    <tr>\n",
       "      <th>39</th>\n",
       "      <td>1</td>\n",
       "      <td>0</td>\n",
       "      <td>0</td>\n",
       "    </tr>\n",
       "    <tr>\n",
       "      <th>40</th>\n",
       "      <td>1</td>\n",
       "      <td>0</td>\n",
       "      <td>0</td>\n",
       "    </tr>\n",
       "    <tr>\n",
       "      <th>...</th>\n",
       "      <td>...</td>\n",
       "      <td>...</td>\n",
       "      <td>...</td>\n",
       "    </tr>\n",
       "    <tr>\n",
       "      <th>99958</th>\n",
       "      <td>0</td>\n",
       "      <td>0</td>\n",
       "      <td>1</td>\n",
       "    </tr>\n",
       "    <tr>\n",
       "      <th>99959</th>\n",
       "      <td>1</td>\n",
       "      <td>0</td>\n",
       "      <td>0</td>\n",
       "    </tr>\n",
       "    <tr>\n",
       "      <th>99960</th>\n",
       "      <td>1</td>\n",
       "      <td>0</td>\n",
       "      <td>0</td>\n",
       "    </tr>\n",
       "    <tr>\n",
       "      <th>99961</th>\n",
       "      <td>1</td>\n",
       "      <td>0</td>\n",
       "      <td>0</td>\n",
       "    </tr>\n",
       "    <tr>\n",
       "      <th>99962</th>\n",
       "      <td>1</td>\n",
       "      <td>0</td>\n",
       "      <td>0</td>\n",
       "    </tr>\n",
       "    <tr>\n",
       "      <th>99963</th>\n",
       "      <td>1</td>\n",
       "      <td>0</td>\n",
       "      <td>0</td>\n",
       "    </tr>\n",
       "    <tr>\n",
       "      <th>99964</th>\n",
       "      <td>0</td>\n",
       "      <td>1</td>\n",
       "      <td>0</td>\n",
       "    </tr>\n",
       "    <tr>\n",
       "      <th>99965</th>\n",
       "      <td>1</td>\n",
       "      <td>0</td>\n",
       "      <td>0</td>\n",
       "    </tr>\n",
       "    <tr>\n",
       "      <th>99967</th>\n",
       "      <td>1</td>\n",
       "      <td>0</td>\n",
       "      <td>0</td>\n",
       "    </tr>\n",
       "    <tr>\n",
       "      <th>99969</th>\n",
       "      <td>0</td>\n",
       "      <td>1</td>\n",
       "      <td>0</td>\n",
       "    </tr>\n",
       "    <tr>\n",
       "      <th>99971</th>\n",
       "      <td>1</td>\n",
       "      <td>0</td>\n",
       "      <td>0</td>\n",
       "    </tr>\n",
       "    <tr>\n",
       "      <th>99972</th>\n",
       "      <td>0</td>\n",
       "      <td>1</td>\n",
       "      <td>0</td>\n",
       "    </tr>\n",
       "    <tr>\n",
       "      <th>99973</th>\n",
       "      <td>1</td>\n",
       "      <td>0</td>\n",
       "      <td>0</td>\n",
       "    </tr>\n",
       "    <tr>\n",
       "      <th>99974</th>\n",
       "      <td>1</td>\n",
       "      <td>0</td>\n",
       "      <td>0</td>\n",
       "    </tr>\n",
       "    <tr>\n",
       "      <th>99975</th>\n",
       "      <td>1</td>\n",
       "      <td>0</td>\n",
       "      <td>0</td>\n",
       "    </tr>\n",
       "    <tr>\n",
       "      <th>99977</th>\n",
       "      <td>1</td>\n",
       "      <td>0</td>\n",
       "      <td>0</td>\n",
       "    </tr>\n",
       "    <tr>\n",
       "      <th>99978</th>\n",
       "      <td>1</td>\n",
       "      <td>0</td>\n",
       "      <td>0</td>\n",
       "    </tr>\n",
       "    <tr>\n",
       "      <th>99979</th>\n",
       "      <td>1</td>\n",
       "      <td>0</td>\n",
       "      <td>0</td>\n",
       "    </tr>\n",
       "    <tr>\n",
       "      <th>99981</th>\n",
       "      <td>1</td>\n",
       "      <td>0</td>\n",
       "      <td>0</td>\n",
       "    </tr>\n",
       "    <tr>\n",
       "      <th>99985</th>\n",
       "      <td>1</td>\n",
       "      <td>0</td>\n",
       "      <td>0</td>\n",
       "    </tr>\n",
       "    <tr>\n",
       "      <th>99986</th>\n",
       "      <td>1</td>\n",
       "      <td>0</td>\n",
       "      <td>0</td>\n",
       "    </tr>\n",
       "    <tr>\n",
       "      <th>99988</th>\n",
       "      <td>0</td>\n",
       "      <td>1</td>\n",
       "      <td>0</td>\n",
       "    </tr>\n",
       "    <tr>\n",
       "      <th>99990</th>\n",
       "      <td>1</td>\n",
       "      <td>0</td>\n",
       "      <td>0</td>\n",
       "    </tr>\n",
       "    <tr>\n",
       "      <th>99991</th>\n",
       "      <td>1</td>\n",
       "      <td>0</td>\n",
       "      <td>0</td>\n",
       "    </tr>\n",
       "    <tr>\n",
       "      <th>99992</th>\n",
       "      <td>1</td>\n",
       "      <td>0</td>\n",
       "      <td>0</td>\n",
       "    </tr>\n",
       "    <tr>\n",
       "      <th>99993</th>\n",
       "      <td>1</td>\n",
       "      <td>0</td>\n",
       "      <td>0</td>\n",
       "    </tr>\n",
       "    <tr>\n",
       "      <th>99995</th>\n",
       "      <td>0</td>\n",
       "      <td>1</td>\n",
       "      <td>0</td>\n",
       "    </tr>\n",
       "    <tr>\n",
       "      <th>99996</th>\n",
       "      <td>0</td>\n",
       "      <td>0</td>\n",
       "      <td>1</td>\n",
       "    </tr>\n",
       "    <tr>\n",
       "      <th>99998</th>\n",
       "      <td>1</td>\n",
       "      <td>0</td>\n",
       "      <td>0</td>\n",
       "    </tr>\n",
       "    <tr>\n",
       "      <th>99999</th>\n",
       "      <td>0</td>\n",
       "      <td>1</td>\n",
       "      <td>0</td>\n",
       "    </tr>\n",
       "  </tbody>\n",
       "</table>\n",
       "<p>70000 rows × 3 columns</p>\n",
       "</div>"
      ],
      "text/plain": [
       "       chol_1  chol_2  chol_3\n",
       "id                           \n",
       "0           1       0       0\n",
       "1           0       0       1\n",
       "2           0       0       1\n",
       "3           1       0       0\n",
       "4           1       0       0\n",
       "8           0       1       0\n",
       "9           0       0       1\n",
       "12          0       0       1\n",
       "13          1       0       0\n",
       "14          1       0       0\n",
       "15          1       0       0\n",
       "16          1       0       0\n",
       "18          1       0       0\n",
       "21          1       0       0\n",
       "23          1       0       0\n",
       "24          1       0       0\n",
       "25          1       0       0\n",
       "27          1       0       0\n",
       "28          1       0       0\n",
       "29          1       0       0\n",
       "30          1       0       0\n",
       "31          1       0       0\n",
       "32          0       1       0\n",
       "33          1       0       0\n",
       "35          0       0       1\n",
       "36          0       1       0\n",
       "37          1       0       0\n",
       "38          1       0       0\n",
       "39          1       0       0\n",
       "40          1       0       0\n",
       "...       ...     ...     ...\n",
       "99958       0       0       1\n",
       "99959       1       0       0\n",
       "99960       1       0       0\n",
       "99961       1       0       0\n",
       "99962       1       0       0\n",
       "99963       1       0       0\n",
       "99964       0       1       0\n",
       "99965       1       0       0\n",
       "99967       1       0       0\n",
       "99969       0       1       0\n",
       "99971       1       0       0\n",
       "99972       0       1       0\n",
       "99973       1       0       0\n",
       "99974       1       0       0\n",
       "99975       1       0       0\n",
       "99977       1       0       0\n",
       "99978       1       0       0\n",
       "99979       1       0       0\n",
       "99981       1       0       0\n",
       "99985       1       0       0\n",
       "99986       1       0       0\n",
       "99988       0       1       0\n",
       "99990       1       0       0\n",
       "99991       1       0       0\n",
       "99992       1       0       0\n",
       "99993       1       0       0\n",
       "99995       0       1       0\n",
       "99996       0       0       1\n",
       "99998       1       0       0\n",
       "99999       0       1       0\n",
       "\n",
       "[70000 rows x 3 columns]"
      ]
     },
     "execution_count": 11,
     "metadata": {},
     "output_type": "execute_result"
    }
   ],
   "source": [
    "pd.get_dummies(df['cholesterol'],prefix='chol')"
   ]
  },
  {
   "cell_type": "code",
   "execution_count": 12,
   "metadata": {
    "collapsed": true
   },
   "outputs": [],
   "source": [
    "df = pd.concat([df,pd.get_dummies(df['cholesterol'],prefix='chol')], axis=1)"
   ]
  },
  {
   "cell_type": "code",
   "execution_count": 20,
   "metadata": {},
   "outputs": [
    {
     "data": {
      "text/html": [
       "<div>\n",
       "<style>\n",
       "    .dataframe thead tr:only-child th {\n",
       "        text-align: right;\n",
       "    }\n",
       "\n",
       "    .dataframe thead th {\n",
       "        text-align: left;\n",
       "    }\n",
       "\n",
       "    .dataframe tbody tr th {\n",
       "        vertical-align: top;\n",
       "    }\n",
       "</style>\n",
       "<table border=\"1\" class=\"dataframe\">\n",
       "  <thead>\n",
       "    <tr style=\"text-align: right;\">\n",
       "      <th></th>\n",
       "      <th>gender</th>\n",
       "      <th>height</th>\n",
       "      <th>weight</th>\n",
       "      <th>ap_hi</th>\n",
       "      <th>ap_lo</th>\n",
       "      <th>smoke</th>\n",
       "      <th>alco</th>\n",
       "      <th>active</th>\n",
       "      <th>age_years</th>\n",
       "      <th>chol_1</th>\n",
       "      <th>chol_2</th>\n",
       "      <th>chol_3</th>\n",
       "      <th>gluc_1</th>\n",
       "      <th>gluc_2</th>\n",
       "      <th>gluc_3</th>\n",
       "    </tr>\n",
       "    <tr>\n",
       "      <th>id</th>\n",
       "      <th></th>\n",
       "      <th></th>\n",
       "      <th></th>\n",
       "      <th></th>\n",
       "      <th></th>\n",
       "      <th></th>\n",
       "      <th></th>\n",
       "      <th></th>\n",
       "      <th></th>\n",
       "      <th></th>\n",
       "      <th></th>\n",
       "      <th></th>\n",
       "      <th></th>\n",
       "      <th></th>\n",
       "      <th></th>\n",
       "    </tr>\n",
       "  </thead>\n",
       "  <tbody>\n",
       "    <tr>\n",
       "      <th>0</th>\n",
       "      <td>2</td>\n",
       "      <td>168</td>\n",
       "      <td>62.0</td>\n",
       "      <td>110</td>\n",
       "      <td>80</td>\n",
       "      <td>0</td>\n",
       "      <td>0</td>\n",
       "      <td>1</td>\n",
       "      <td>50.0</td>\n",
       "      <td>1</td>\n",
       "      <td>0</td>\n",
       "      <td>0</td>\n",
       "      <td>1</td>\n",
       "      <td>0</td>\n",
       "      <td>0</td>\n",
       "    </tr>\n",
       "    <tr>\n",
       "      <th>1</th>\n",
       "      <td>1</td>\n",
       "      <td>156</td>\n",
       "      <td>85.0</td>\n",
       "      <td>140</td>\n",
       "      <td>90</td>\n",
       "      <td>0</td>\n",
       "      <td>0</td>\n",
       "      <td>1</td>\n",
       "      <td>55.0</td>\n",
       "      <td>0</td>\n",
       "      <td>0</td>\n",
       "      <td>1</td>\n",
       "      <td>0</td>\n",
       "      <td>0</td>\n",
       "      <td>1</td>\n",
       "    </tr>\n",
       "    <tr>\n",
       "      <th>2</th>\n",
       "      <td>1</td>\n",
       "      <td>165</td>\n",
       "      <td>64.0</td>\n",
       "      <td>130</td>\n",
       "      <td>70</td>\n",
       "      <td>0</td>\n",
       "      <td>0</td>\n",
       "      <td>0</td>\n",
       "      <td>51.0</td>\n",
       "      <td>0</td>\n",
       "      <td>0</td>\n",
       "      <td>1</td>\n",
       "      <td>0</td>\n",
       "      <td>0</td>\n",
       "      <td>1</td>\n",
       "    </tr>\n",
       "    <tr>\n",
       "      <th>3</th>\n",
       "      <td>2</td>\n",
       "      <td>169</td>\n",
       "      <td>82.0</td>\n",
       "      <td>150</td>\n",
       "      <td>100</td>\n",
       "      <td>0</td>\n",
       "      <td>0</td>\n",
       "      <td>1</td>\n",
       "      <td>48.0</td>\n",
       "      <td>1</td>\n",
       "      <td>0</td>\n",
       "      <td>0</td>\n",
       "      <td>1</td>\n",
       "      <td>0</td>\n",
       "      <td>0</td>\n",
       "    </tr>\n",
       "    <tr>\n",
       "      <th>4</th>\n",
       "      <td>1</td>\n",
       "      <td>156</td>\n",
       "      <td>56.0</td>\n",
       "      <td>100</td>\n",
       "      <td>60</td>\n",
       "      <td>0</td>\n",
       "      <td>0</td>\n",
       "      <td>0</td>\n",
       "      <td>47.0</td>\n",
       "      <td>1</td>\n",
       "      <td>0</td>\n",
       "      <td>0</td>\n",
       "      <td>1</td>\n",
       "      <td>0</td>\n",
       "      <td>0</td>\n",
       "    </tr>\n",
       "  </tbody>\n",
       "</table>\n",
       "</div>"
      ],
      "text/plain": [
       "    gender  height  weight  ap_hi  ap_lo  smoke  alco  active  age_years  \\\n",
       "id                                                                         \n",
       "0        2     168    62.0    110     80      0     0       1       50.0   \n",
       "1        1     156    85.0    140     90      0     0       1       55.0   \n",
       "2        1     165    64.0    130     70      0     0       0       51.0   \n",
       "3        2     169    82.0    150    100      0     0       1       48.0   \n",
       "4        1     156    56.0    100     60      0     0       0       47.0   \n",
       "\n",
       "    chol_1  chol_2  chol_3  gluc_1  gluc_2  gluc_3  \n",
       "id                                                  \n",
       "0        1       0       0       1       0       0  \n",
       "1        0       0       1       0       0       1  \n",
       "2        0       0       1       0       0       1  \n",
       "3        1       0       0       1       0       0  \n",
       "4        1       0       0       1       0       0  "
      ]
     },
     "execution_count": 20,
     "metadata": {},
     "output_type": "execute_result"
    }
   ],
   "source": [
    "df.head()"
   ]
  },
  {
   "cell_type": "code",
   "execution_count": 15,
   "metadata": {
    "collapsed": true
   },
   "outputs": [],
   "source": [
    "df = pd.concat([df, pd.get_dummies(df['cholesterol'],prefix='gluc')], axis=1)"
   ]
  },
  {
   "cell_type": "code",
   "execution_count": 17,
   "metadata": {
    "collapsed": true
   },
   "outputs": [],
   "source": [
    "df=df.drop(['cholesterol','gluc'],axis=1)"
   ]
  },
  {
   "cell_type": "code",
   "execution_count": 19,
   "metadata": {
    "collapsed": true
   },
   "outputs": [],
   "source": [
    "y = df['cardio']\n",
    "df.drop(['age', 'cardio'], axis=1, inplace=True)"
   ]
  },
  {
   "cell_type": "code",
   "execution_count": 21,
   "metadata": {
    "collapsed": true
   },
   "outputs": [],
   "source": [
    "from sklearn.model_selection import train_test_split\n",
    "X_train, X_holdout, y_train, y_holdout = train_test_split(df.values, y, test_size=0.3,\n",
    "random_state=17)"
   ]
  },
  {
   "cell_type": "code",
   "execution_count": 26,
   "metadata": {},
   "outputs": [],
   "source": [
    "tree = DecisionTreeClassifier(max_depth=3, random_state=17)"
   ]
  },
  {
   "cell_type": "code",
   "execution_count": 27,
   "metadata": {},
   "outputs": [
    {
     "data": {
      "text/plain": [
       "DecisionTreeClassifier(class_weight=None, criterion='gini', max_depth=3,\n",
       "            max_features=None, max_leaf_nodes=None,\n",
       "            min_impurity_decrease=0.0, min_impurity_split=None,\n",
       "            min_samples_leaf=1, min_samples_split=2,\n",
       "            min_weight_fraction_leaf=0.0, presort=False, random_state=17,\n",
       "            splitter='best')"
      ]
     },
     "execution_count": 27,
     "metadata": {},
     "output_type": "execute_result"
    }
   ],
   "source": [
    "tree.fit(X_train, y_train)"
   ]
  },
  {
   "cell_type": "code",
   "execution_count": 36,
   "metadata": {},
   "outputs": [],
   "source": [
    "export_graphviz(tree, feature_names=['gender','height','weight','ap_hi','ap_lo','smoke','alco','active','age_years','chol_1','chol_2','chol_3','gluc_1','gluc_2','gluc_3'] ,\n",
    "out_file=r'C:\\Users\\User\\Desktop\\tree.dot', filled=True)\n"
   ]
  },
  {
   "cell_type": "code",
   "execution_count": 37,
   "metadata": {},
   "outputs": [],
   "source": [
    "!dot -Tpng C:\\Users\\User\\Desktop\\tree.dot -o C:\\Users\\User\\Desktop\\tree.png"
   ]
  },
  {
   "cell_type": "code",
   "execution_count": 38,
   "metadata": {},
   "outputs": [
    {
     "data": {
      "text/plain": [
       "0.72128571428571431"
      ]
     },
     "execution_count": 38,
     "metadata": {},
     "output_type": "execute_result"
    }
   ],
   "source": [
    "from sklearn.metrics import accuracy_score\n",
    "\n",
    "tree_pred = tree.predict(X_holdout)\n",
    "accuracy_score(y_holdout, tree_pred)"
   ]
  },
  {
   "cell_type": "code",
   "execution_count": 39,
   "metadata": {
    "collapsed": true
   },
   "outputs": [],
   "source": [
    "tree_params = {'max_depth': list(range(2, 11))}\n"
   ]
  },
  {
   "cell_type": "code",
   "execution_count": 40,
   "metadata": {
    "collapsed": true
   },
   "outputs": [],
   "source": [
    "from sklearn.model_selection import GridSearchCV, cross_val_score"
   ]
  },
  {
   "cell_type": "code",
   "execution_count": 41,
   "metadata": {
    "collapsed": true
   },
   "outputs": [],
   "source": [
    "tree_grid = GridSearchCV(tree, tree_params,\n",
    "cv=5, n_jobs=-1,\n",
    "verbose=True)"
   ]
  },
  {
   "cell_type": "code",
   "execution_count": 42,
   "metadata": {},
   "outputs": [
    {
     "name": "stdout",
     "output_type": "stream",
     "text": [
      "Fitting 5 folds for each of 9 candidates, totalling 45 fits\n"
     ]
    },
    {
     "name": "stderr",
     "output_type": "stream",
     "text": [
      "[Parallel(n_jobs=-1)]: Done  45 out of  45 | elapsed:   34.7s finished\n"
     ]
    },
    {
     "data": {
      "text/plain": [
       "GridSearchCV(cv=5, error_score='raise',\n",
       "       estimator=DecisionTreeClassifier(class_weight=None, criterion='gini', max_depth=3,\n",
       "            max_features=None, max_leaf_nodes=None,\n",
       "            min_impurity_decrease=0.0, min_impurity_split=None,\n",
       "            min_samples_leaf=1, min_samples_split=2,\n",
       "            min_weight_fraction_leaf=0.0, presort=False, random_state=17,\n",
       "            splitter='best'),\n",
       "       fit_params=None, iid=True, n_jobs=-1,\n",
       "       param_grid={'max_depth': [2, 3, 4, 5, 6, 7, 8, 9, 10]},\n",
       "       pre_dispatch='2*n_jobs', refit=True, return_train_score=True,\n",
       "       scoring=None, verbose=True)"
      ]
     },
     "execution_count": 42,
     "metadata": {},
     "output_type": "execute_result"
    }
   ],
   "source": [
    "tree_grid.fit(X_train, y_train)"
   ]
  },
  {
   "cell_type": "code",
   "execution_count": 43,
   "metadata": {},
   "outputs": [
    {
     "data": {
      "text/plain": [
       "{'max_depth': 6}"
      ]
     },
     "execution_count": 43,
     "metadata": {},
     "output_type": "execute_result"
    }
   ],
   "source": [
    "tree_grid.best_params_"
   ]
  },
  {
   "cell_type": "code",
   "execution_count": 44,
   "metadata": {},
   "outputs": [
    {
     "data": {
      "text/plain": [
       "0.72466666666666668"
      ]
     },
     "execution_count": 44,
     "metadata": {},
     "output_type": "execute_result"
    }
   ],
   "source": [
    "accuracy_score(y_holdout, tree_grid.predict(X_holdout))"
   ]
  },
  {
   "cell_type": "code",
   "execution_count": 46,
   "metadata": {},
   "outputs": [
    {
     "data": {
      "text/plain": [
       "{'mean_fit_time': array([ 0.23540006,  0.25919995,  0.17179999,  0.2164    ,  0.27160001,\n",
       "         0.24640007,  0.36199999,  0.25820003,  0.36700001]),\n",
       " 'mean_score_time': array([ 0.01020002,  0.03880005,  0.00459995,  0.00419998,  0.00500002,\n",
       "         0.0052    ,  0.01360002,  0.00739999,  0.00500002]),\n",
       " 'mean_test_score': array([ 0.7155102 ,  0.72771429,  0.72993878,  0.73057143,  0.73114286,\n",
       "         0.72916327,  0.72902041,  0.72830612,  0.72597959]),\n",
       " 'mean_train_score': array([ 0.71551022,  0.7277143 ,  0.73031635,  0.7327143 ,  0.73487247,\n",
       "         0.73913777,  0.74367348,  0.74931125,  0.75560206]),\n",
       " 'param_max_depth': masked_array(data = [2 3 4 5 6 7 8 9 10],\n",
       "              mask = [False False False False False False False False False],\n",
       "        fill_value = ?),\n",
       " 'params': [{'max_depth': 2},\n",
       "  {'max_depth': 3},\n",
       "  {'max_depth': 4},\n",
       "  {'max_depth': 5},\n",
       "  {'max_depth': 6},\n",
       "  {'max_depth': 7},\n",
       "  {'max_depth': 8},\n",
       "  {'max_depth': 9},\n",
       "  {'max_depth': 10}],\n",
       " 'rank_test_score': array([9, 7, 3, 2, 1, 4, 5, 6, 8]),\n",
       " 'split0_test_score': array([ 0.71156004,  0.72206918,  0.72441588,  0.7234976 ,  0.72400775,\n",
       "         0.72390572,  0.72268136,  0.72206918,  0.72094684]),\n",
       " 'split0_train_score': array([ 0.71649787,  0.72912574,  0.73188092,  0.734432  ,  0.73680451,\n",
       "         0.74103931,  0.7445343 ,  0.7515753 ,  0.75823363]),\n",
       " 'split1_test_score': array([ 0.71326531,  0.72561224,  0.72816327,  0.72928571,  0.72846939,\n",
       "         0.72846939,  0.72816327,  0.72581633,  0.72469388]),\n",
       " 'split1_train_score': array([ 0.71607143,  0.7282398 ,  0.73043367,  0.73244898,  0.73477041,\n",
       "         0.73928571,  0.74464286,  0.74966837,  0.75645408]),\n",
       " 'split2_test_score': array([ 0.71755102,  0.73265306,  0.73346939,  0.73571429,  0.73693878,\n",
       "         0.7322449 ,  0.73295918,  0.73377551,  0.7322449 ]),\n",
       " 'split2_train_score': array([ 0.715     ,  0.72647959,  0.72966837,  0.73237245,  0.73346939,\n",
       "         0.73793367,  0.74247449,  0.74721939,  0.75354592]),\n",
       " 'split3_test_score': array([ 0.71357143,  0.72397959,  0.72663265,  0.72693878,  0.7294898 ,\n",
       "         0.72908163,  0.72734694,  0.72857143,  0.72602041]),\n",
       " 'split3_train_score': array([ 0.7159949 ,  0.72864796,  0.73137755,  0.73352041,  0.73566327,\n",
       "         0.7392602 ,  0.74512755,  0.75076531,  0.7555102 ]),\n",
       " 'split4_test_score': array([ 0.72160425,  0.7342586 ,  0.73701398,  0.73742219,  0.73680988,\n",
       "         0.73211552,  0.73395244,  0.73129911,  0.72599245]),\n",
       " 'split4_train_score': array([ 0.71398689,  0.72607842,  0.72822122,  0.73079768,  0.73365475,\n",
       "         0.73816994,  0.74158822,  0.74732787,  0.75426647]),\n",
       " 'std_fit_time': array([ 0.10595777,  0.09795793,  0.06711903,  0.13704393,  0.20441686,\n",
       "         0.12489771,  0.23300046,  0.0907533 ,  0.1805348 ]),\n",
       " 'std_score_time': array([ 0.01096177,  0.06960284,  0.00080003,  0.00074833,  0.00089447,\n",
       "         0.0011662 ,  0.01620617,  0.00287056,  0.00089442]),\n",
       " 'std_test_score': array([ 0.00362498,  0.00484669,  0.00462833,  0.00525872,  0.0050299 ,\n",
       "         0.00304447,  0.00408801,  0.00409986,  0.00363978]),\n",
       " 'std_train_score': array([ 0.00090622,  0.00121166,  0.00129593,  0.00122155,  0.0012506 ,\n",
       "         0.00109902,  0.00138426,  0.00177073,  0.00165354])}"
      ]
     },
     "execution_count": 46,
     "metadata": {},
     "output_type": "execute_result"
    }
   ],
   "source": [
    "tree_grid.cv_results_"
   ]
  },
  {
   "cell_type": "code",
   "execution_count": 48,
   "metadata": {},
   "outputs": [
    {
     "data": {
      "image/png": "[encoded data removed]",
      "text/plain": [
       "<matplotlib.figure.Figure at 0xd756550>"
      ]
     },
     "metadata": {},
     "output_type": "display_data"
    }
   ],
   "source": [
    "from sklearn.model_selection import cross_val_score\n",
    "\n",
    "cv_scores, holdout_scores = [], []\n",
    "n_neighb=range(2,11)\n",
    "\n",
    "for k in n_neighb:\n",
    "\n",
    "    knn = DecisionTreeClassifier(max_depth=k,random_state=17)\n",
    "    cv_scores.append(np.mean(cross_val_score(knn, X_train, y_train, cv=5)))\n",
    "    knn.fit(X_train, y_train)\n",
    "    holdout_scores.append(accuracy_score(y_holdout, knn.predict(X_holdout)))\n",
    "\n",
    "plt.plot(n_neighb, cv_scores, label='CV')\n",
    "plt.plot(n_neighb, holdout_scores, label='holdout')\n",
    "plt.title('Easy task. kNN fails')\n",
    "plt.legend();"
   ]
  },
  {
   "cell_type": "code",
   "execution_count": null,
   "metadata": {
    "collapsed": true
   },
   "outputs": [],
   "source": [
    "tree_cv_score = np.mean(cross_val_score(tree, X_train, y_train, cv=5))\n",
    "tree_holdout_score = accuracy_score(y_holdout, tree.predict(X_holdout))"
   ]
  },
  {
   "cell_type": "code",
   "execution_count": 50,
   "metadata": {},
   "outputs": [],
   "source": [
    "acc2=0.72466666666666668\n",
    "acc1=0.72128571428571431\n",
    "x=(acc2 - acc1) / acc1 * 100"
   ]
  },
  {
   "cell_type": "code",
   "execution_count": 51,
   "metadata": {},
   "outputs": [
    {
     "data": {
      "text/plain": [
       "0.46873968442595787"
      ]
     },
     "execution_count": 51,
     "metadata": {},
     "output_type": "execute_result"
    }
   ],
   "source": [
    "x"
   ]
  },
  {
   "cell_type": "code",
   "execution_count": 52,
   "metadata": {},
   "outputs": [
    {
     "data": {
      "text/plain": [
       "0.0033809523809523734"
      ]
     },
     "execution_count": 52,
     "metadata": {},
     "output_type": "execute_result"
    }
   ],
   "source": [
    "acc2-acc1"
   ]
  },
  {
   "cell_type": "code",
   "execution_count": 53,
   "metadata": {
    "collapsed": true
   },
   "outputs": [],
   "source": [
    "df1=df"
   ]
  },
  {
   "cell_type": "code",
   "execution_count": null,
   "metadata": {
    "collapsed": true
   },
   "outputs": [],
   "source": [
    "if (df['age.years']>=45) & (df['age.years']<50):\n",
    "if (df['age.years']>=50) & (df['age.years']<55):\n",
    "if (df['age.years']>=55) & (df['age.years']<60):\n",
    "if (df['age.years']>=60) & (df['age.years']<65):"
   ]
  },
  {
   "cell_type": "code",
   "execution_count": 54,
   "metadata": {
    "collapsed": true
   },
   "outputs": [],
   "source": [
    "df1['male']=df1['gender']"
   ]
  },
  {
   "cell_type": "code",
   "execution_count": 59,
   "metadata": {
    "collapsed": true
   },
   "outputs": [],
   "source": [
    "\n",
    "def func(x):\n",
    "    y=0\n",
    "    if (x>=45) & (x<50):\n",
    "        y=1\n",
    "    if (x>=50) & (x<55):\n",
    "        y=2\n",
    "    if (x>=55) & (x<60):\n",
    "        y=3\n",
    "    if (x>=60) & (x<65):\n",
    "        y=4\n",
    "    return y\n",
    "    \n",
    "        \n",
    "    "
   ]
  },
  {
   "cell_type": "code",
   "execution_count": 87,
   "metadata": {
    "collapsed": true
   },
   "outputs": [],
   "source": [
    "def func1(x):\n",
    "    y=0\n",
    "    if (x>=120) & (x<140):\n",
    "        y=1\n",
    "    if (x>=140) & (x<160):\n",
    "        y=2\n",
    "    if (x>=160) & (x<180):\n",
    "        y=3\n",
    "    return y\n",
    "    "
   ]
  },
  {
   "cell_type": "code",
   "execution_count": 96,
   "metadata": {},
   "outputs": [
    {
     "data": {
      "text/html": [
       "<div>\n",
       "<style>\n",
       "    .dataframe thead tr:only-child th {\n",
       "        text-align: right;\n",
       "    }\n",
       "\n",
       "    .dataframe thead th {\n",
       "        text-align: left;\n",
       "    }\n",
       "\n",
       "    .dataframe tbody tr th {\n",
       "        vertical-align: top;\n",
       "    }\n",
       "</style>\n",
       "<table border=\"1\" class=\"dataframe\">\n",
       "  <thead>\n",
       "    <tr style=\"text-align: right;\">\n",
       "      <th></th>\n",
       "      <th>smoke</th>\n",
       "      <th>chol_1</th>\n",
       "      <th>chol_2</th>\n",
       "      <th>chol_3</th>\n",
       "      <th>male</th>\n",
       "      <th>age_1</th>\n",
       "      <th>age_2</th>\n",
       "      <th>age_3</th>\n",
       "      <th>age_4</th>\n",
       "      <th>aphi_1</th>\n",
       "      <th>aphi_2</th>\n",
       "      <th>aphi_3</th>\n",
       "    </tr>\n",
       "    <tr>\n",
       "      <th>id</th>\n",
       "      <th></th>\n",
       "      <th></th>\n",
       "      <th></th>\n",
       "      <th></th>\n",
       "      <th></th>\n",
       "      <th></th>\n",
       "      <th></th>\n",
       "      <th></th>\n",
       "      <th></th>\n",
       "      <th></th>\n",
       "      <th></th>\n",
       "      <th></th>\n",
       "    </tr>\n",
       "  </thead>\n",
       "  <tbody>\n",
       "    <tr>\n",
       "      <th>99993</th>\n",
       "      <td>1</td>\n",
       "      <td>1</td>\n",
       "      <td>0</td>\n",
       "      <td>0</td>\n",
       "      <td>1</td>\n",
       "      <td>0</td>\n",
       "      <td>1</td>\n",
       "      <td>0</td>\n",
       "      <td>0</td>\n",
       "      <td>1</td>\n",
       "      <td>0</td>\n",
       "      <td>0</td>\n",
       "    </tr>\n",
       "    <tr>\n",
       "      <th>99995</th>\n",
       "      <td>0</td>\n",
       "      <td>0</td>\n",
       "      <td>1</td>\n",
       "      <td>0</td>\n",
       "      <td>0</td>\n",
       "      <td>0</td>\n",
       "      <td>0</td>\n",
       "      <td>0</td>\n",
       "      <td>1</td>\n",
       "      <td>0</td>\n",
       "      <td>1</td>\n",
       "      <td>0</td>\n",
       "    </tr>\n",
       "    <tr>\n",
       "      <th>99996</th>\n",
       "      <td>0</td>\n",
       "      <td>0</td>\n",
       "      <td>0</td>\n",
       "      <td>1</td>\n",
       "      <td>1</td>\n",
       "      <td>0</td>\n",
       "      <td>1</td>\n",
       "      <td>0</td>\n",
       "      <td>0</td>\n",
       "      <td>0</td>\n",
       "      <td>0</td>\n",
       "      <td>0</td>\n",
       "    </tr>\n",
       "    <tr>\n",
       "      <th>99998</th>\n",
       "      <td>0</td>\n",
       "      <td>1</td>\n",
       "      <td>0</td>\n",
       "      <td>0</td>\n",
       "      <td>0</td>\n",
       "      <td>0</td>\n",
       "      <td>0</td>\n",
       "      <td>0</td>\n",
       "      <td>1</td>\n",
       "      <td>1</td>\n",
       "      <td>0</td>\n",
       "      <td>0</td>\n",
       "    </tr>\n",
       "    <tr>\n",
       "      <th>99999</th>\n",
       "      <td>0</td>\n",
       "      <td>0</td>\n",
       "      <td>1</td>\n",
       "      <td>0</td>\n",
       "      <td>0</td>\n",
       "      <td>0</td>\n",
       "      <td>0</td>\n",
       "      <td>1</td>\n",
       "      <td>0</td>\n",
       "      <td>1</td>\n",
       "      <td>0</td>\n",
       "      <td>0</td>\n",
       "    </tr>\n",
       "  </tbody>\n",
       "</table>\n",
       "</div>"
      ],
      "text/plain": [
       "       smoke  chol_1  chol_2  chol_3  male  age_1  age_2  age_3  age_4  \\\n",
       "id                                                                       \n",
       "99993      1       1       0       0     1      0      1      0      0   \n",
       "99995      0       0       1       0     0      0      0      0      1   \n",
       "99996      0       0       0       1     1      0      1      0      0   \n",
       "99998      0       1       0       0     0      0      0      0      1   \n",
       "99999      0       0       1       0     0      0      0      1      0   \n",
       "\n",
       "       aphi_1  aphi_2  aphi_3  \n",
       "id                             \n",
       "99993       1       0       0  \n",
       "99995       0       1       0  \n",
       "99996       0       0       0  \n",
       "99998       1       0       0  \n",
       "99999       1       0       0  "
      ]
     },
     "execution_count": 96,
     "metadata": {},
     "output_type": "execute_result"
    }
   ],
   "source": [
    "df1.tail()"
   ]
  },
  {
   "cell_type": "code",
   "execution_count": 62,
   "metadata": {},
   "outputs": [],
   "source": [
    "df1['NFage']=df['age_years'].apply(func) "
   ]
  },
  {
   "cell_type": "code",
   "execution_count": 88,
   "metadata": {
    "collapsed": true
   },
   "outputs": [],
   "source": [
    "df1['NFaphi']=df['ap_hi'].apply(func1) "
   ]
  },
  {
   "cell_type": "code",
   "execution_count": 67,
   "metadata": {},
   "outputs": [],
   "source": [
    "df1 = pd.concat([df1,pd.get_dummies(df1['NFage'],prefix='age')], axis=1)"
   ]
  },
  {
   "cell_type": "code",
   "execution_count": 89,
   "metadata": {
    "collapsed": true
   },
   "outputs": [],
   "source": [
    "df1 = pd.concat([df1,pd.get_dummies(df1['NFaphi'],prefix='aphi')], axis=1)"
   ]
  },
  {
   "cell_type": "code",
   "execution_count": 69,
   "metadata": {
    "collapsed": true
   },
   "outputs": [],
   "source": [
    "df1=df1.drop(['NFage'],axis=1)"
   ]
  },
  {
   "cell_type": "code",
   "execution_count": 91,
   "metadata": {
    "collapsed": true
   },
   "outputs": [],
   "source": [
    "df1=df1.drop(['NFaphi'],axis=1)"
   ]
  },
  {
   "cell_type": "code",
   "execution_count": 95,
   "metadata": {
    "collapsed": true
   },
   "outputs": [],
   "source": [
    "df1=df1.drop(['age_0','aphi_0'],axis=1)"
   ]
  },
  {
   "cell_type": "code",
   "execution_count": 93,
   "metadata": {
    "collapsed": true
   },
   "outputs": [],
   "source": [
    "df1=df1.drop(['ap_hi', 'ap_lo'],axis=1)"
   ]
  },
  {
   "cell_type": "code",
   "execution_count": 71,
   "metadata": {
    "collapsed": true
   },
   "outputs": [],
   "source": [
    "df1=df1.drop(['height','weight','alco','active','age_years'],axis=1)"
   ]
  },
  {
   "cell_type": "code",
   "execution_count": 74,
   "metadata": {},
   "outputs": [],
   "source": [
    "df1=df1.drop(['gluc_1','gluc_2','gluc_3'],axis=1)"
   ]
  },
  {
   "cell_type": "code",
   "execution_count": 97,
   "metadata": {},
   "outputs": [],
   "source": [
    "X=df1.values"
   ]
  },
  {
   "cell_type": "code",
   "execution_count": 98,
   "metadata": {
    "collapsed": true
   },
   "outputs": [],
   "source": [
    "tree1=DecisionTreeClassifier(max_depth=3,random_state=17)"
   ]
  },
  {
   "cell_type": "code",
   "execution_count": 99,
   "metadata": {},
   "outputs": [
    {
     "data": {
      "text/plain": [
       "DecisionTreeClassifier(class_weight=None, criterion='gini', max_depth=3,\n",
       "            max_features=None, max_leaf_nodes=None,\n",
       "            min_impurity_decrease=0.0, min_impurity_split=None,\n",
       "            min_samples_leaf=1, min_samples_split=2,\n",
       "            min_weight_fraction_leaf=0.0, presort=False, random_state=17,\n",
       "            splitter='best')"
      ]
     },
     "execution_count": 99,
     "metadata": {},
     "output_type": "execute_result"
    }
   ],
   "source": [
    "tree1.fit(X, y)"
   ]
  },
  {
   "cell_type": "code",
   "execution_count": 102,
   "metadata": {},
   "outputs": [],
   "source": [
    "export_graphviz(tree1, feature_names=['smoke','chol_1','chol_2','chol_3','male','age_1','age_2','age_3','age_4','aphi_1','aphi_2','aphi_3'] ,\n",
    "out_file=r'C:\\Users\\User\\Desktop\\tree1.dot', filled=True)"
   ]
  },
  {
   "cell_type": "code",
   "execution_count": 103,
   "metadata": {
    "collapsed": true
   },
   "outputs": [],
   "source": [
    "!dot -Tpng C:\\Users\\User\\Desktop\\tree1.dot -o C:\\Users\\User\\Desktop\\tree1.png"
   ]
  },
  {
   "cell_type": "code",
   "execution_count": null,
   "metadata": {
    "collapsed": true
   },
   "outputs": [],
   "source": []
  }
 ],
 "metadata": {
  "kernelspec": {
   "display_name": "Python 2",
   "language": "python",
   "name": "python2"
  },
  "language_info": {
   "codemirror_mode": {
    "name": "ipython",
    "version": 2
   },
   "file_extension": ".py",
   "mimetype": "text/x-python",
   "name": "python",
   "nbconvert_exporter": "python",
   "pygments_lexer": "ipython2",
   "version": "2.7.13"
  }
 },
 "nbformat": 4,
 "nbformat_minor": 2
}
